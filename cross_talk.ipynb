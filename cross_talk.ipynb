{
 "cells": [
  {
   "cell_type": "markdown",
   "metadata": {},
   "source": [
    "In this document, we quantify the amount of cross-talk occuring between pixels in a CMOS image sensor. We believe that one cause of this cross-talk is diffusion of minority carriers (electrons): when a photon is absorbed, creating a photoelectron, close to the surface of a backside-illuminated sensor (outside of the depletion region), the electron may diffuse into nearby pixels."
   ]
  },
  {
   "cell_type": "code",
   "execution_count": 2,
   "metadata": {},
   "outputs": [],
   "source": [
    "import os\n",
    "import numpy as np\n",
    "import matplotlib.pyplot as plt\n",
    "from astropy.io import fits"
   ]
  },
  {
   "cell_type": "code",
   "execution_count": 91,
   "metadata": {},
   "outputs": [],
   "source": [
    "coeff_hdul = fits.open('/Users/layden/Library/CloudStorage/Box-Box/Scientific CMOS - MKI ONLY (might contain EAR; ITAR)/Teledyne_COSMOS/Final Data Products/Calibration/Calibration Data/coeff_array_HSHGRS.fits')\n",
    "coeff_array = coeff_hdul[0].data\n",
    "# mean_bias_hdul = fits.open('/Users/layden/Library/CloudStorage/Box-Box/Scientific CMOS - MKI ONLY (might contain EAR; ITAR)/Teledyne_COSMOS/Final Data Products/Calibration/Calibration Data/master_bias_CMS.fits')\n",
    "# mean_bias_frame = mean_bias_hdul[0].data\n",
    "# When taking this data, I already did bias subtraction\n",
    "mean_bias_frame = np.zeros_like(coeff_array[0])\n",
    "def correct_images(image_stack, coeffs, transition_value, high_cutoff, bits, order_low, bias_frame=None, verbose=False):\n",
    "    corrected_stack = np.zeros_like(image_stack, dtype=np.uint16)\n",
    "    order_high = len(coeffs) - order_low\n",
    "    if bias_frame is not None:\n",
    "        image_stack = image_stack - bias_frame\n",
    "    for i, frame in enumerate(image_stack):\n",
    "        corrected_frame = np.zeros_like(frame, dtype=float)\n",
    "        low_vals_frame = np.zeros_like(frame)\n",
    "        low_vals_frame[frame <= transition_value] = frame[frame <= transition_value]\n",
    "        low_vals_true_frame = frame <= transition_value\n",
    "        high_vals_frame = np.zeros_like(frame)\n",
    "        high_vals_frame[(frame > transition_value) & (frame < high_cutoff)] = frame[(frame > transition_value) & (frame < high_cutoff)]\n",
    "        high_vals_true_frame = (frame > transition_value) & (frame < high_cutoff)\n",
    "        saturated_vals_true_frame = frame >= high_cutoff\n",
    "        for j in range(order_low - 1):\n",
    "            corrected_frame += coeffs[j] * low_vals_frame.astype(float) ** (order_low - 1 - j)\n",
    "        for j in range(order_high - 1):\n",
    "            corrected_frame += coeffs[j + order_low] * high_vals_frame.astype(float) ** (order_high - 1 - j)\n",
    "            # For saturated values, set the corrected value to the correction of high_cutoff\n",
    "            corrected_frame += coeffs[j + order_low] * (high_cutoff * saturated_vals_true_frame).astype(float) ** (order_high - 1 - j)\n",
    "        # Add the correct constant term\n",
    "        corrected_frame += coeffs[order_low - 1] * low_vals_true_frame\n",
    "        corrected_frame += coeffs[-1] * high_vals_true_frame\n",
    "        corrected_frame += coeffs[-1] * saturated_vals_true_frame\n",
    "        # Bound corrected_frame between 0 and 2**bits - 1\n",
    "        corrected_frame[corrected_frame < 0] = 0\n",
    "        corrected_frame[corrected_frame > 2**bits - 1] = 2**bits - 1\n",
    "        # Make NaNs equal to 2 ** bits - 1\n",
    "        corrected_frame[np.isnan(corrected_frame)] = 2 ** bits - 1\n",
    "        corrected_stack[i] = np.rint(corrected_frame).astype(np.uint16)\n",
    "        if verbose:\n",
    "            print(i, np.median(corrected_stack[i]))\n",
    "    return corrected_stack"
   ]
  },
  {
   "cell_type": "code",
   "execution_count": 101,
   "metadata": {},
   "outputs": [
    {
     "name": "stdout",
     "output_type": "stream",
     "text": [
      "faint Blue mean fraction: 0.4611842447044616 pm  0.050561239128835256 . Mean saturation level: 0.017359415690104168\n",
      "medium Blue mean fraction: 0.48030340324706317 pm  0.019106591198397672 . Mean saturation level: 0.084075927734375\n",
      "bright Blue mean fraction: 0.4865171580503185 pm  0.006353768080305265 . Mean saturation level: 0.16600545247395834\n",
      "faint Red mean fraction: 0.6251983939926782 pm  0.06531718555220371 . Mean saturation level: 0.025909423828125\n",
      "medium Red mean fraction: 0.5668729935353237 pm  0.026008383909599177 . Mean saturation level: 0.12324015299479167\n",
      "bright Red mean fraction: 0.5474567287862031 pm  0.0011572673825847694 . Mean saturation level: 0.236053466796875\n",
      "faint NIR mean fraction: 0.4608910753359987 pm  0.08423196710488629 . Mean saturation level: 0.0147247314453125\n",
      "medium NIR mean fraction: 0.4037781377621727 pm  0.004621404224122492 . Mean saturation level: 0.06864420572916667\n",
      "bright NIR mean fraction: 0.4026563777156406 pm  0.010147288650481742 . Mean saturation level: 0.13553365071614584\n"
     ]
    }
   ],
   "source": [
    "%matplotlib inline\n",
    "data_folder = os.getcwd() + '/Intrapixel Response/IPRF Data/Spot Characterization/HS_HG_RS'\n",
    "bits = 16\n",
    "# data_folder = os.getcwd() + '/data/IPRF Data/Spot Characterization/IMX455'\n",
    "wavelengths = np.array([400, 625, 875])\n",
    "plot_img = np.zeros((11, 11))\n",
    "\n",
    "for color in ['Blue', 'Red', 'NIR']:\n",
    "    for level in ['faint', 'medium', 'bright']:\n",
    "        central_pix_fracs = np.zeros(3)\n",
    "        mean_saturation_level = 0\n",
    "        for i, ind in enumerate(['1', '2', '3']):\n",
    "            filename = data_folder + '/' + color + '/spot_image_' + level + '_' + ind + '.fits'\n",
    "            test_data = fits.open(filename)\n",
    "            # Get start pixel from header\n",
    "            start_row = test_data[0].header['ROI START ROW']\n",
    "            start_col = test_data[0].header['ROI START COL']\n",
    "            coeff_array_roi = coeff_array[:, start_row:start_row + 31, start_col:start_col + 31]\n",
    "            bias_frame_roi = mean_bias_frame[start_row:start_row + 31, start_col:start_col + 31]\n",
    "            # Extract data from fits file\n",
    "            roi_frame = test_data[0].data\n",
    "            # roi_frame = correct_images(np.array([roi_frame]), coeff_array_roi, 3000, 60000, 16, 12, bias_frame_roi)[0]\n",
    "            roi_frame = correct_images(np.array([roi_frame]), coeff_array_roi, 750, 15000, 14, 12, bias_frame_roi)[0]\n",
    "            dark_val = np.mean(roi_frame[-2:])\n",
    "            roi_frame = roi_frame[10:21, 10:21]\n",
    "            central_pix_val = np.max(roi_frame)\n",
    "            central_pix_frac = (central_pix_val - dark_val) / (np.sum(roi_frame) - dark_val * roi_frame.size)\n",
    "            if color == 'Blue' and level =='bright':\n",
    "                plot_img += (roi_frame - dark_val) / 3\n",
    "            central_pix_fracs[i] = central_pix_frac\n",
    "            mean_saturation_level += central_pix_val / 2 ** bits\n",
    "            # print(level + ' ' + ind)\n",
    "            # print('Central Pixel Value:', central_pix_val)\n",
    "            # print('Central Pixel Fraction:', central_pix_frac)\n",
    "            # print(np.sum(brightest - dark_val) / (np.sum(test_data) - dark_val * test_data.size))\n",
    "            # print()\n",
    "        mean_central_pix_frac = np.mean(central_pix_fracs)\n",
    "        std_central_pix_frac = np.std(central_pix_fracs, ddof=1)\n",
    "        mean_saturation_level /= 3\n",
    "        print(level, color, 'mean fraction:', mean_central_pix_frac, 'pm ', std_central_pix_frac, '. Mean saturation level:', mean_saturation_level)\n"
   ]
  },
  {
   "cell_type": "code",
   "execution_count": 102,
   "metadata": {},
   "outputs": [],
   "source": [
    "plot_img = plot_img / np.sum(plot_img) * 100\n",
    "# Just get the central 5x5 box\n",
    "plot_img = plot_img[3:8, 3:8]\n",
    "# Make any negative values zero\n",
    "plot_img[plot_img < 0] = 0.0001"
   ]
  },
  {
   "cell_type": "code",
   "execution_count": null,
   "metadata": {},
   "outputs": [
    {
     "data": {
      "image/png": "[encoded data removed]",
      "text/plain": [
       "<Figure size 640x480 with 2 Axes>"
      ]
     },
     "metadata": {},
     "output_type": "display_data"
    },
    {
     "ename": "",
     "evalue": "",
     "output_type": "error",
     "traceback": [
      "\u001b[1;31mThe Kernel crashed while executing code in the current cell or a previous cell. \n",
      "\u001b[1;31mPlease review the code in the cell(s) to identify a possible cause of the failure. \n",
      "\u001b[1;31mClick <a href='https://aka.ms/vscodeJupyterKernelCrash'>here</a> for more info. \n",
      "\u001b[1;31mView Jupyter <a href='command:jupyter.viewOutput'>log</a> for further details."
     ]
    }
   ],
   "source": [
    "%matplotlib inline\n",
    "# Make a heat map with the couplingelation array. Put the associated value on each square.\n",
    "fig, ax = plt.subplots()\n",
    "cax = ax.imshow(plot_img,norm='log' )\n",
    "fig.colorbar(cax, label='Total Coupling with Blue Light (%)')\n",
    "for i in range(plot_img.shape[0]):\n",
    "    for j in range(plot_img.shape[1]):\n",
    "        if abs(i - 2) <= 1 and abs(j - 2) <= 1:\n",
    "            ax.text(j, i, f'{plot_img[i, j]:.2f}', ha='center', va='center', color='black')\n",
    "        else:\n",
    "            ax.text(j, i, f'{plot_img[i, j]:.2f}', ha='center', va='center', color='white')\n",
    "# Make the ticks go from -2 to 2 instead of 0 to 4\n",
    "ax.set_xticks(np.arange(plot_img.shape[1]))\n",
    "ax.set_yticks(np.arange(plot_img.shape[0]))\n",
    "ax.set_xticklabels(np.arange(-plot_img.shape[1]//2+1, plot_img.shape[1]//2+1))\n",
    "ax.set_yticklabels(np.arange(-plot_img.shape[0]//2+1, plot_img.shape[0]//2+1))\n",
    "plt.show()"
   ]
  },
  {
   "cell_type": "markdown",
   "metadata": {},
   "source": [
    "Simulate how electron diffusion can cause crosstalk"
   ]
  },
  {
   "cell_type": "code",
   "execution_count": 45,
   "metadata": {},
   "outputs": [
    {
     "name": "stdout",
     "output_type": "stream",
     "text": [
      "Central Pixel Fraction: 0.51\n",
      "Time Taken: 100.10 ns\n",
      "Quantum Efficiency: 0.865\n"
     ]
    }
   ],
   "source": [
    "global lost_electrons, collected_electrons, electron_positions\n",
    "\n",
    "# Do some simulations\n",
    "n_photons = 5000\n",
    "abs_length = 3 # microns\n",
    "depletion_depth = 3 # microns\n",
    "sensor_depth = 10 # microns\n",
    "sensor_width = 10 # microns\n",
    "z_bins = np.linspace(0, sensor_depth, 100)\n",
    "# Calculate number of electrons that interact within each bin\n",
    "n_electrons_binned = n_photons * (np.exp(-z_bins / abs_length))\n",
    "n_electrons_binned[1:] = n_electrons_binned[:-1] - n_electrons_binned[1:]\n",
    "n_electrons_binned[0] = n_electrons_binned[0] - n_photons\n",
    "n_electrons_binned = np.rint(n_electrons_binned).astype(int)\n",
    "num_electrons = np.sum(n_electrons_binned)\n",
    "# Initialize an array where each element corresponds to an electron's position\n",
    "electron_positions = np.zeros((num_electrons, 3))\n",
    "# The first 2 columns are the x and y positions of the electron, which starts at (0,0)\n",
    "# as the spot is centered on a pixel. The z position is the depth of the electron,\n",
    "# initialized by the depth at which it was created.\n",
    "electron_positions[:,2] = np.repeat(z_bins, n_electrons_binned)\n",
    "# Array that will accumulate the electrons that are collected in each pixel.\n",
    "collected_electrons = np.zeros((11, 11))\n",
    "def collect_electrons():\n",
    "    global collected_electrons, electron_positions\n",
    "    # The electron is collected if it reaches the depletion depth.\n",
    "    # If this is the case, set their z position to NaN to indicate they were collected.\n",
    "    # If this is the case, use the x and y positions to determine the pixel\n",
    "    # the electron was collected in.\n",
    "    collected = np.where(electron_positions[:,2] >= sensor_depth - depletion_depth)\n",
    "    electron_positions[collected,2] = np.NaN\n",
    "    pix_locs = np.rint(electron_positions[collected,:2] / sensor_width).astype(int)[0]\n",
    "    # Shift so that center pixel corresponds goes to center of collected_electrons array\n",
    "    pix_locs = pix_locs + [5, 5]\n",
    "    for loc in pix_locs:\n",
    "        collected_electrons[loc[0], loc[1]] += 1\n",
    "\n",
    "lost_electrons = 0\n",
    "def lose_electrons(loss_probability=0.01):\n",
    "    global lost_electrons, electron_positions\n",
    "    # The electron may be lost if it reaches the sensor surface. Otherwise\n",
    "    # it may keep diffusing around.\n",
    "    # Any electron can also be lost due to recombination. But the carrier lifetime is\n",
    "    # O(100 us) so we can ignore this when we're on scales of O(100 ns).\n",
    "    # If an electron is lost, set its z position to NaN.\n",
    "    at_surface = np.where(electron_positions[:,2] < 0)\n",
    "    lost = np.random.uniform(0, 1, len(at_surface[0])) < loss_probability\n",
    "    actually_lost = at_surface[0][lost]\n",
    "    not_actually_lost = at_surface[0][~lost]\n",
    "    lost_electrons += len(actually_lost)\n",
    "    electron_positions[not_actually_lost,2] = 0\n",
    "    electron_positions[actually_lost,2] = np.NaN\n",
    "\n",
    "diff_coeff = 36 # cm^2 / s\n",
    "# Convert to um^2/ns\n",
    "diff_coeff = diff_coeff * 1e8 / 1e9\n",
    "time_step = 0.1 # ns\n",
    "sigma = np.sqrt(2 * diff_coeff * time_step)\n",
    "def execute_time_step():\n",
    "    global electron_positions\n",
    "    # Update the pixel location values for diffusion\n",
    "    displacement_vals = np.random.multivariate_normal([0, 0, 0], [[sigma / 3, 0, 0], [0, sigma / 3, 0], [0, 0, sigma / 3]],\n",
    "                                                      len(electron_positions))\n",
    "    electron_positions += displacement_vals\n",
    "\n",
    "i = 0\n",
    "# Keep going until all electrons are collected or lost (i.e. all z vals are NaN)\n",
    "while i < 2000 and not np.all(np.isnan(electron_positions[:,2])):\n",
    "    collect_electrons()\n",
    "    lose_electrons()\n",
    "    execute_time_step()\n",
    "    i += 1\n",
    "\n",
    "central_pix_frac = collected_electrons[5,5] / np.sum(collected_electrons)\n",
    "time_taken = i * time_step\n",
    "print('Central Pixel Fraction:', format(central_pix_frac, '.2f'))\n",
    "print('Time Taken:', format(time_taken, '.2f'), 'ns')\n",
    "print('Quantum Efficiency:', format(np.sum(collected_electrons) / n_photons, '.3f'))"
   ]
  },
  {
   "cell_type": "code",
   "execution_count": null,
   "metadata": {},
   "outputs": [],
   "source": []
  }
 ],
 "metadata": {
  "kernelspec": {
   "display_name": "base",
   "language": "python",
   "name": "python3"
  },
  "language_info": {
   "codemirror_mode": {
    "name": "ipython",
    "version": 3
   },
   "file_extension": ".py",
   "mimetype": "text/x-python",
   "name": "python",
   "nbconvert_exporter": "python",
   "pygments_lexer": "ipython3",
   "version": "3.9.12"
  }
 },
 "nbformat": 4,
 "nbformat_minor": 2
}
