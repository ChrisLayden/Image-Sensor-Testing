{
 "cells": [
  {
   "cell_type": "markdown",
   "metadata": {},
   "source": [
    "In this document, we quantify the amount of cross-talk occuring between pixels in a CMOS image sensor. We believe that one cause of this cross-talk is diffusion of minority carriers (electrons): when a photon is absorbed, creating a photoelectron, close to the surface of a backside-illuminated sensor (outside of the depletion region), the electron may diffuse into nearby pixels."
   ]
  },
  {
   "cell_type": "code",
   "execution_count": 2,
   "metadata": {},
   "outputs": [],
   "source": [
    "import os\n",
    "import numpy as np\n",
    "import matplotlib.pyplot as plt\n",
    "from astropy.io import fits"
   ]
  },
  {
   "cell_type": "code",
   "execution_count": 3,
   "metadata": {},
   "outputs": [
    {
     "name": "stdout",
     "output_type": "stream",
     "text": [
      "faint 1\n",
      "Dark Value: 0.46774193548387094\n",
      "Central Pixel Value: 2959\n",
      "Central Pixel Fraction: 0.604247511249613\n",
      "\n",
      "faint 2\n",
      "Dark Value: -0.8870967741935484\n",
      "Central Pixel Value: 2865\n",
      "Central Pixel Fraction: 0.5627430735903315\n",
      "\n",
      "faint 3\n",
      "Dark Value: 0.3387096774193548\n",
      "Central Pixel Value: 2924\n",
      "Central Pixel Fraction: 0.5782410361107566\n",
      "\n",
      "medium 1\n",
      "Dark Value: 0.8870967741935484\n",
      "Central Pixel Value: 17406\n",
      "Central Pixel Fraction: 0.5254962211227551\n",
      "\n",
      "medium 2\n",
      "Dark Value: -2.6774193548387095\n",
      "Central Pixel Value: 16897\n",
      "Central Pixel Fraction: 0.5089230811077035\n",
      "\n",
      "medium 3\n",
      "Dark Value: 0.03225806451612903\n",
      "Central Pixel Value: 16663\n",
      "Central Pixel Fraction: 0.5117497404357509\n",
      "\n",
      "bright 1\n",
      "Dark Value: 0.2903225806451613\n",
      "Central Pixel Value: 36046\n",
      "Central Pixel Fraction: 0.4897450506874471\n",
      "\n",
      "bright 2\n",
      "Dark Value: 3.4193548387096775\n",
      "Central Pixel Value: 36380\n",
      "Central Pixel Fraction: 0.4951345987503897\n",
      "\n",
      "bright 3\n",
      "Dark Value: 1.5483870967741935\n",
      "Central Pixel Value: 35557\n",
      "Central Pixel Fraction: 0.49107595551432887\n",
      "\n"
     ]
    }
   ],
   "source": [
    "%matplotlib qt\n",
    "data_folder = os.getcwd() + '/data/IPRF Data/Spot Characterization/CMS'\n",
    "# data_folder = os.getcwd() + '/data/IPRF Data/Spot Characterization/IMX455'\n",
    "wavelengths = np.array([400, 625, 875])\n",
    "\n",
    "for level in ['faint', 'medium', 'bright']:\n",
    "    for ind in ['1', '2', '3']:\n",
    "        filename = data_folder + '/NIR/spot_image_' + level + '_' + ind + '.fits'\n",
    "        test_data = fits.open(filename)\n",
    "        # test_data = fits.open(data_folder + '/IMX455_spot_1.fits')\n",
    "        # Extract data from fits file\n",
    "        test_data = test_data[0].data\n",
    "        dark_val = np.mean(test_data[-2:])\n",
    "        test_data = test_data[10:20, 10:20]\n",
    "        # plt.imshow(test_data, cmap='gray')\n",
    "        # plt.show()\n",
    "        print(level + ' ' + ind)\n",
    "        print('Dark Value:', dark_val)\n",
    "        print('Central Pixel Value:', np.max(test_data))\n",
    "        print('Central Pixel Fraction:', (np.max(test_data) - dark_val) / (np.sum(test_data) - dark_val * test_data.size))\n",
    "        # print(np.sum(brightest - dark_val) / (np.sum(test_data) - dark_val * test_data.size))\n",
    "        print()\n"
   ]
  },
  {
   "cell_type": "markdown",
   "metadata": {},
   "source": [
    "Simulate how electron diffusion can cause crosstalk"
   ]
  },
  {
   "cell_type": "code",
   "execution_count": 144,
   "metadata": {},
   "outputs": [
    {
     "name": "stdout",
     "output_type": "stream",
     "text": [
      "Central Pixel Fraction: 0.70\n",
      "Time Taken: 68.00 ns\n",
      "Quantum Efficiency: 0.902\n"
     ]
    }
   ],
   "source": [
    "global lost_electrons, collected_electrons, electron_positions\n",
    "\n",
    "# Do some simulations\n",
    "n_photons = 5000\n",
    "abs_length = 3 # microns\n",
    "depletion_depth = 5 # microns\n",
    "sensor_depth = 10 # microns\n",
    "sensor_width = 10 # microns\n",
    "z_bins = np.linspace(0, sensor_depth, 100)\n",
    "# Calculate number of electrons that interact within each bin\n",
    "n_electrons_binned = n_photons * (np.exp(-z_bins / abs_length))\n",
    "n_electrons_binned[1:] = n_electrons_binned[:-1] - n_electrons_binned[1:]\n",
    "n_electrons_binned[0] = n_electrons_binned[0] - n_photons\n",
    "n_electrons_binned = np.rint(n_electrons_binned).astype(int)\n",
    "num_electrons = np.sum(n_electrons_binned)\n",
    "# Initialize an array where each element corresponds to an electron's position\n",
    "electron_positions = np.zeros((num_electrons, 3))\n",
    "# The first 2 columns are the x and y positions of the electron, which starts at (0,0)\n",
    "# as the spot is centered on a pixel. The z position is the depth of the electron,\n",
    "# initialized by the depth at which it was created.\n",
    "electron_positions[:,2] = np.repeat(z_bins, n_electrons_binned)\n",
    "# Array that will accumulate the electrons that are collected in each pixel.\n",
    "collected_electrons = np.zeros((11, 11))\n",
    "def collect_electrons():\n",
    "    global collected_electrons, electron_positions\n",
    "    # The electron is collected if it reaches the depletion depth.\n",
    "    # If this is the case, set their z position to NaN to indicate they were collected.\n",
    "    # If this is the case, use the x and y positions to determine the pixel\n",
    "    # the electron was collected in.\n",
    "    collected = np.where(electron_positions[:,2] >= sensor_depth - depletion_depth)\n",
    "    electron_positions[collected,2] = np.NaN\n",
    "    pix_locs = np.rint(electron_positions[collected,:2] / sensor_width).astype(int)[0]\n",
    "    # Shift so that center pixel corresponds goes to center of collected_electrons array\n",
    "    pix_locs = pix_locs + [5, 5]\n",
    "    for loc in pix_locs:\n",
    "        collected_electrons[loc[0], loc[1]] += 1\n",
    "\n",
    "lost_electrons = 0\n",
    "def lose_electrons(loss_probability=0.01):\n",
    "    global lost_electrons, electron_positions\n",
    "    # The electron may be lost if it reaches the sensor surface. Otherwise\n",
    "    # it may keep diffusing around.\n",
    "    # Any electron can also be lost due to recombination. But the carrier lifetime is\n",
    "    # O(100 us) so we can ignore this when we're on scales of O(100 ns).\n",
    "    # If an electron is lost, set its z position to NaN.\n",
    "    at_surface = np.where(electron_positions[:,2] < 0)\n",
    "    lost = np.random.uniform(0, 1, len(at_surface[0])) < loss_probability\n",
    "    actually_lost = at_surface[0][lost]\n",
    "    not_actually_lost = at_surface[0][~lost]\n",
    "    lost_electrons += len(actually_lost)\n",
    "    electron_positions[not_actually_lost,2] = 0\n",
    "    electron_positions[actually_lost,2] = np.NaN\n",
    "\n",
    "diff_coeff = 36 # cm^2 / s\n",
    "# Convert to um^2/ns\n",
    "diff_coeff = diff_coeff * 1e8 / 1e9\n",
    "time_step = 0.1 # ns\n",
    "sigma = np.sqrt(2 * diff_coeff * time_step)\n",
    "def execute_time_step():\n",
    "    global electron_positions\n",
    "    # Update the pixel location values for diffusion\n",
    "    displacement_vals = np.random.multivariate_normal([0, 0, 0], [[sigma / 3, 0, 0], [0, sigma / 3, 0], [0, 0, sigma / 3]],\n",
    "                                                      len(electron_positions))\n",
    "    electron_positions += displacement_vals\n",
    "\n",
    "i = 0\n",
    "# Keep going until all electrons are collected or lost (i.e. all z vals are NaN)\n",
    "while i < 2000 and not np.all(np.isnan(electron_positions[:,2])):\n",
    "    collect_electrons()\n",
    "    lose_electrons()\n",
    "    execute_time_step()\n",
    "    i += 1\n",
    "\n",
    "central_pix_frac = collected_electrons[5,5] / np.sum(collected_electrons)\n",
    "time_taken = i * time_step\n",
    "print('Central Pixel Fraction:', format(central_pix_frac, '.2f'))\n",
    "print('Time Taken:', format(time_taken, '.2f'), 'ns')\n",
    "print('Quantum Efficiency:', format(np.sum(collected_electrons) / n_photons, '.3f'))"
   ]
  },
  {
   "cell_type": "code",
   "execution_count": null,
   "metadata": {},
   "outputs": [],
   "source": []
  }
 ],
 "metadata": {
  "kernelspec": {
   "display_name": "base",
   "language": "python",
   "name": "python3"
  },
  "language_info": {
   "codemirror_mode": {
    "name": "ipython",
    "version": 3
   },
   "file_extension": ".py",
   "mimetype": "text/x-python",
   "name": "python",
   "nbconvert_exporter": "python",
   "pygments_lexer": "ipython3",
   "version": "3.9.12"
  }
 },
 "nbformat": 4,
 "nbformat_minor": 2
}
