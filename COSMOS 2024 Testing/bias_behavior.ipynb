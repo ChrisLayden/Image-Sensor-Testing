{
 "cells": [
  {
   "cell_type": "markdown",
   "metadata": {},
   "source": [
    "# Bias Frames Analysis Notebook"
   ]
  },
  {
   "cell_type": "markdown",
   "metadata": {},
   "source": [
    "Analyze bias images. A few things we're looking for in the next few cell blocks are the following: 1) \"Bright Bias\" oddities, where for some reason bias frames (1 us dark exposures) tend to be brighter than longer exposures. 2) \"Even/Odd Row Patterns,\" where even rows have systematically different bias levels than odd rows 3) Bias frame stability over multiple days and after mode-switching"
   ]
  },
  {
   "cell_type": "markdown",
   "metadata": {},
   "source": [
    "Load dependencies."
   ]
  },
  {
   "cell_type": "code",
   "execution_count": null,
   "metadata": {},
   "outputs": [],
   "source": [
    "# Make sure that any changes to the dependencies are automatically updated\n",
    "%load_ext autoreload\n",
    "%autoreload 2\n",
    "\n",
    "import os\n",
    "import numpy as np\n",
    "import matplotlib.pyplot as plt\n",
    "# Tools for opening image stacks and relevant data from fits headers\n",
    "from cosmos_helper_funcs import get_stacks, label_plot, cosmos_gain_dict\n",
    "# Tools for making defect pixel histograms\n",
    "from defect_pixel_funcs import *\n",
    "from scipy.optimize import curve_fit"
   ]
  },
  {
   "cell_type": "markdown",
   "metadata": {},
   "source": [
    "Load the relevant bias and short-duration dark images."
   ]
  },
  {
   "cell_type": "code",
   "execution_count": 2,
   "metadata": {},
   "outputs": [
    {
     "ename": "KeyboardInterrupt",
     "evalue": "",
     "output_type": "error",
     "traceback": [
      "\u001b[0;31m---------------------------------------------------------------------------\u001b[0m",
      "\u001b[0;31mKeyboardInterrupt\u001b[0m                         Traceback (most recent call last)",
      "Cell \u001b[0;32mIn[2], line 5\u001b[0m\n\u001b[1;32m      2\u001b[0m bias_folder \u001b[38;5;241m=\u001b[39m \u001b[38;5;124m'\u001b[39m\u001b[38;5;124m/Users/layden/Library/CloudStorage/Box-Box/Scientific CMOS - MKI ONLY (might contain EAR; ITAR)/Teledyne_COSMOS/Analysis Images/Bias Images/HS_HG_GS/9-28-24\u001b[39m\u001b[38;5;124m'\u001b[39m\n\u001b[1;32m      3\u001b[0m \u001b[38;5;66;03m# Load the image stacks. Each element of bias_stacks is a dictionary containing relevant header data and the mean image.\u001b[39;00m\n\u001b[1;32m      4\u001b[0m \u001b[38;5;66;03m# I don't load all of the frames in the image stacks here to save memory.\u001b[39;00m\n\u001b[0;32m----> 5\u001b[0m bias_stacks \u001b[38;5;241m=\u001b[39m \u001b[43mget_stacks\u001b[49m\u001b[43m(\u001b[49m\u001b[43mbias_folder\u001b[49m\u001b[43m,\u001b[49m\u001b[43m \u001b[49m\u001b[43mnum_imgs\u001b[49m\u001b[38;5;241;43m=\u001b[39;49m\u001b[38;5;241;43m0\u001b[39;49m\u001b[43m,\u001b[49m\u001b[43m \u001b[49m\u001b[43mget_mean_img\u001b[49m\u001b[38;5;241;43m=\u001b[39;49m\u001b[38;5;28;43;01mTrue\u001b[39;49;00m\u001b[43m,\u001b[49m\u001b[43m \u001b[49m\u001b[43mget_var_img\u001b[49m\u001b[38;5;241;43m=\u001b[39;49m\u001b[38;5;28;43;01mFalse\u001b[39;49;00m\u001b[43m)\u001b[49m\n",
      "File \u001b[0;32m~/Documents/TESS/Image-Sensor-Testing/cosmos_helper_funcs.py:77\u001b[0m, in \u001b[0;36mget_stacks\u001b[0;34m(user_dir, keywords, fieldnames, get_mean_img, get_var_img, num_imgs)\u001b[0m\n\u001b[1;32m     75\u001b[0m info \u001b[38;5;241m=\u001b[39m hdul\u001b[38;5;241m.\u001b[39minfo(\u001b[38;5;28;01mFalse\u001b[39;00m)\n\u001b[1;32m     76\u001b[0m primary_header \u001b[38;5;241m=\u001b[39m hdul[\u001b[38;5;241m0\u001b[39m]\u001b[38;5;241m.\u001b[39mheader\n\u001b[0;32m---> 77\u001b[0m imagestack \u001b[38;5;241m=\u001b[39m \u001b[43mhdul\u001b[49m\u001b[43m[\u001b[49m\u001b[38;5;241;43m0\u001b[39;49m\u001b[43m]\u001b[49m\u001b[38;5;241;43m.\u001b[39;49m\u001b[43mdata\u001b[49m\u001b[38;5;241m.\u001b[39mastype(\u001b[38;5;28mint\u001b[39m)\n\u001b[1;32m     78\u001b[0m \u001b[38;5;28;01mif\u001b[39;00m get_mean_img:\n\u001b[1;32m     79\u001b[0m     mean_img \u001b[38;5;241m=\u001b[39m np\u001b[38;5;241m.\u001b[39mmean(imagestack, axis\u001b[38;5;241m=\u001b[39m\u001b[38;5;241m0\u001b[39m)\n",
      "File \u001b[0;32m~/miniconda3/lib/python3.9/site-packages/astropy/utils/decorators.py:837\u001b[0m, in \u001b[0;36mlazyproperty.__get__\u001b[0;34m(self, obj, owner)\u001b[0m\n\u001b[1;32m    835\u001b[0m         val \u001b[38;5;241m=\u001b[39m obj_dict\u001b[38;5;241m.\u001b[39mget(\u001b[38;5;28mself\u001b[39m\u001b[38;5;241m.\u001b[39m_key, _NotFound)\n\u001b[1;32m    836\u001b[0m         \u001b[38;5;28;01mif\u001b[39;00m val \u001b[38;5;129;01mis\u001b[39;00m _NotFound:\n\u001b[0;32m--> 837\u001b[0m             val \u001b[38;5;241m=\u001b[39m \u001b[38;5;28;43mself\u001b[39;49m\u001b[38;5;241;43m.\u001b[39;49m\u001b[43mfget\u001b[49m\u001b[43m(\u001b[49m\u001b[43mobj\u001b[49m\u001b[43m)\u001b[49m\n\u001b[1;32m    838\u001b[0m             obj_dict[\u001b[38;5;28mself\u001b[39m\u001b[38;5;241m.\u001b[39m_key] \u001b[38;5;241m=\u001b[39m val\n\u001b[1;32m    839\u001b[0m \u001b[38;5;28;01mreturn\u001b[39;00m val\n",
      "File \u001b[0;32m~/miniconda3/lib/python3.9/site-packages/astropy/io/fits/hdu/image.py:250\u001b[0m, in \u001b[0;36m_ImageBaseHDU.data\u001b[0;34m(self)\u001b[0m\n\u001b[1;32m    247\u001b[0m \u001b[38;5;28;01mif\u001b[39;00m \u001b[38;5;28mlen\u001b[39m(\u001b[38;5;28mself\u001b[39m\u001b[38;5;241m.\u001b[39m_axes) \u001b[38;5;241m<\u001b[39m \u001b[38;5;241m1\u001b[39m:\n\u001b[1;32m    248\u001b[0m     \u001b[38;5;28;01mreturn\u001b[39;00m\n\u001b[0;32m--> 250\u001b[0m data \u001b[38;5;241m=\u001b[39m \u001b[38;5;28;43mself\u001b[39;49m\u001b[38;5;241;43m.\u001b[39;49m\u001b[43m_get_scaled_image_data\u001b[49m\u001b[43m(\u001b[49m\u001b[38;5;28;43mself\u001b[39;49m\u001b[38;5;241;43m.\u001b[39;49m\u001b[43m_data_offset\u001b[49m\u001b[43m,\u001b[49m\u001b[43m \u001b[49m\u001b[38;5;28;43mself\u001b[39;49m\u001b[38;5;241;43m.\u001b[39;49m\u001b[43mshape\u001b[49m\u001b[43m)\u001b[49m\n\u001b[1;32m    251\u001b[0m \u001b[38;5;28mself\u001b[39m\u001b[38;5;241m.\u001b[39m_update_header_scale_info(data\u001b[38;5;241m.\u001b[39mdtype)\n\u001b[1;32m    253\u001b[0m \u001b[38;5;28;01mreturn\u001b[39;00m data\n",
      "File \u001b[0;32m~/miniconda3/lib/python3.9/site-packages/astropy/io/fits/hdu/image.py:830\u001b[0m, in \u001b[0;36m_ImageBaseHDU._get_scaled_image_data\u001b[0;34m(self, offset, shape)\u001b[0m\n\u001b[1;32m    828\u001b[0m data \u001b[38;5;241m=\u001b[39m \u001b[38;5;28;01mNone\u001b[39;00m\n\u001b[1;32m    829\u001b[0m \u001b[38;5;28;01mif\u001b[39;00m \u001b[38;5;129;01mnot\u001b[39;00m (\u001b[38;5;28mself\u001b[39m\u001b[38;5;241m.\u001b[39m_orig_bzero \u001b[38;5;241m==\u001b[39m \u001b[38;5;241m0\u001b[39m \u001b[38;5;129;01mand\u001b[39;00m \u001b[38;5;28mself\u001b[39m\u001b[38;5;241m.\u001b[39m_orig_bscale \u001b[38;5;241m==\u001b[39m \u001b[38;5;241m1\u001b[39m):\n\u001b[0;32m--> 830\u001b[0m     data \u001b[38;5;241m=\u001b[39m \u001b[38;5;28;43mself\u001b[39;49m\u001b[38;5;241;43m.\u001b[39;49m\u001b[43m_convert_pseudo_integer\u001b[49m\u001b[43m(\u001b[49m\u001b[43mraw_data\u001b[49m\u001b[43m)\u001b[49m\n\u001b[1;32m    832\u001b[0m \u001b[38;5;28;01mif\u001b[39;00m data \u001b[38;5;129;01mis\u001b[39;00m \u001b[38;5;28;01mNone\u001b[39;00m:\n\u001b[1;32m    833\u001b[0m     \u001b[38;5;66;03m# In these cases, we end up with floating-point arrays and have to\u001b[39;00m\n\u001b[1;32m    834\u001b[0m     \u001b[38;5;66;03m# apply bscale and bzero. We may have to handle BLANK and convert\u001b[39;00m\n\u001b[1;32m    835\u001b[0m     \u001b[38;5;66;03m# to NaN in the resulting floating-point arrays.\u001b[39;00m\n\u001b[1;32m    836\u001b[0m     \u001b[38;5;66;03m# The BLANK keyword should only be applied for integer data (this\u001b[39;00m\n\u001b[1;32m    837\u001b[0m     \u001b[38;5;66;03m# is checked in __init__ but it can't hurt to double check here)\u001b[39;00m\n\u001b[1;32m    838\u001b[0m     blanks \u001b[38;5;241m=\u001b[39m \u001b[38;5;28;01mNone\u001b[39;00m\n",
      "File \u001b[0;32m~/miniconda3/lib/python3.9/site-packages/astropy/io/fits/hdu/image.py:796\u001b[0m, in \u001b[0;36m_ImageBaseHDU._convert_pseudo_integer\u001b[0;34m(self, data)\u001b[0m\n\u001b[1;32m    790\u001b[0m \u001b[38;5;28;01mif\u001b[39;00m dtype \u001b[38;5;129;01mis\u001b[39;00m \u001b[38;5;129;01mnot\u001b[39;00m \u001b[38;5;28;01mNone\u001b[39;00m \u001b[38;5;129;01mand\u001b[39;00m dtype\u001b[38;5;241m.\u001b[39mkind \u001b[38;5;241m==\u001b[39m \u001b[38;5;124m\"\u001b[39m\u001b[38;5;124mu\u001b[39m\u001b[38;5;124m\"\u001b[39m:\n\u001b[1;32m    791\u001b[0m     \u001b[38;5;66;03m# Convert the input raw data into an unsigned integer array and\u001b[39;00m\n\u001b[1;32m    792\u001b[0m     \u001b[38;5;66;03m# then scale the data adjusting for the value of BZERO.  Note that\u001b[39;00m\n\u001b[1;32m    793\u001b[0m     \u001b[38;5;66;03m# we subtract the value of BZERO instead of adding because of the\u001b[39;00m\n\u001b[1;32m    794\u001b[0m     \u001b[38;5;66;03m# way numpy converts the raw signed array into an unsigned array.\u001b[39;00m\n\u001b[1;32m    795\u001b[0m     bits \u001b[38;5;241m=\u001b[39m dtype\u001b[38;5;241m.\u001b[39mitemsize \u001b[38;5;241m*\u001b[39m \u001b[38;5;241m8\u001b[39m\n\u001b[0;32m--> 796\u001b[0m     data \u001b[38;5;241m=\u001b[39m \u001b[43mnp\u001b[49m\u001b[38;5;241;43m.\u001b[39;49m\u001b[43marray\u001b[49m\u001b[43m(\u001b[49m\u001b[43mdata\u001b[49m\u001b[43m,\u001b[49m\u001b[43m \u001b[49m\u001b[43mdtype\u001b[49m\u001b[38;5;241;43m=\u001b[39;49m\u001b[43mdtype\u001b[49m\u001b[43m)\u001b[49m\n\u001b[1;32m    797\u001b[0m     data \u001b[38;5;241m-\u001b[39m\u001b[38;5;241m=\u001b[39m np\u001b[38;5;241m.\u001b[39muint64(\u001b[38;5;241m1\u001b[39m \u001b[38;5;241m<<\u001b[39m (bits \u001b[38;5;241m-\u001b[39m \u001b[38;5;241m1\u001b[39m))\n\u001b[1;32m    799\u001b[0m     \u001b[38;5;28;01mreturn\u001b[39;00m data\n",
      "\u001b[0;31mKeyboardInterrupt\u001b[0m: "
     ]
    }
   ],
   "source": [
    "# The folder in which bias image stacks are stored.\n",
    "bias_folder = '/Users/layden/Library/CloudStorage/Box-Box/Scientific CMOS - MKI ONLY (might contain EAR; ITAR)/Teledyne_COSMOS/Analysis Images/Bias Images/HS_HG_GS/9-28-24'\n",
    "# Load the image stacks. Each element of bias_stacks is a dictionary containing relevant header data and the mean image.\n",
    "# I don't load all of the frames in the image stacks here to save memory.\n",
    "bias_stacks = get_stacks(bias_folder, num_imgs=0, get_mean_img=True, get_var_img=False)\n"
   ]
  },
  {
   "cell_type": "code",
   "execution_count": null,
   "metadata": {},
   "outputs": [],
   "source": [
    "# Sort bias_stacks by exposure time\n",
    "bias_stacks = sorted(bias_stacks, key=lambda x: float(x[\"exposure_ms\"]))\n",
    "exp_times = np.array([float(x[\"exposure_ms\"]) for x in bias_stacks])\n",
    "print(\"Exposure Times (ms): \", exp_times)"
   ]
  },
  {
   "cell_type": "markdown",
   "metadata": {},
   "source": [
    "Let's visually inspect the bias and 1 second dark frames. Ideally, by subtracting the bias frame, we should be left with a clean image with an average value of zero."
   ]
  },
  {
   "cell_type": "code",
   "execution_count": null,
   "metadata": {},
   "outputs": [],
   "source": [
    "# Set some bounds for the colorbars\n",
    "bias_low = np.percentile(bias_stacks[0][\"mean_img\"], 1)\n",
    "bias_high = np.percentile(bias_stacks[0][\"mean_img\"], 99)\n",
    "# Show the raw bias frame\n",
    "plt.imshow(bias_stacks[0][\"mean_img\"], vmin=bias_low, vmax=bias_high)\n",
    "# Label the plot with relevant camera information\n",
    "label_plot(bias_stacks[0])\n",
    "plt.colorbar()\n",
    "plt.title('Mean Stack of 50 Dark 1us Bias Exposures')\n",
    "plt.xlabel('Column Number')\n",
    "plt.ylabel('Row Number')\n",
    "plt.show()\n",
    "\n",
    "# Show the raw 1s dark frame\n",
    "plt.imshow(bias_stacks[1][\"mean_img\"], vmin=bias_low, vmax=bias_high)\n",
    "label_plot(bias_stacks[1])\n",
    "plt.colorbar()\n",
    "plt.title('Mean Stack of 50 Dark 1s Exposures')\n",
    "plt.xlabel('Column Number')\n",
    "plt.ylabel('Row Number')\n",
    "plt.show()\n",
    "\n",
    "# Show the bias-subtracted 1s dark frame\n",
    "mean_1s_subtract = bias_stacks[1][\"mean_img\"] - bias_stacks[0][\"mean_img\"]\n",
    "bias_subtract_low = -10\n",
    "bias_subtract_high = 10\n",
    "plt.imshow(mean_1s_subtract, vmin=bias_subtract_low, vmax=bias_subtract_high)\n",
    "label_plot(bias_stacks[1])\n",
    "plt.colorbar()\n",
    "plt.title('Mean Stack of 50 Dark 1s Exposures, Bias-Subtracted')\n",
    "plt.xlabel('Column Number')\n",
    "plt.ylabel('Row Number')\n",
    "plt.show()"
   ]
  },
  {
   "cell_type": "markdown",
   "metadata": {},
   "source": [
    "Plot histograms for the bias-subtracted 1s frame."
   ]
  },
  {
   "cell_type": "code",
   "execution_count": null,
   "metadata": {},
   "outputs": [],
   "source": [
    "plt.imshow(mean_1s_subtract, vmin=bias_subtract_low, vmax=bias_subtract_high)\n",
    "plt.colorbar()\n",
    "label_plot(bias_stacks[1])\n",
    "plt.title('Pixel Values: Mean Stack of 1s Exposures, Bias-Subtracted')\n",
    "# Put a box around top left corner\n",
    "plt.gca().add_patch(plt.Rectangle((0, 0), 1624, 1624, fill=False, edgecolor='red'))\n",
    "plt.gca().add_patch(plt.Rectangle((6496, 0), 1624, 1624, fill=False, edgecolor='red'))\n",
    "plt.gca().add_patch(plt.Rectangle((0, 6496), 1624, 1624, fill=False, edgecolor='red'))\n",
    "plt.gca().add_patch(plt.Rectangle((6496, 6496), 1624, 1624, fill=False, edgecolor='red'))\n",
    "plt.gca().add_patch(plt.Rectangle((3248, 3248), 1624, 1624, fill=False, edgecolor='red'))\n",
    "plt.xlabel('Column Number')\n",
    "plt.ylabel('Row Number')\n",
    "plt.show()\n",
    "\n",
    "# Plot a histogram of the bias-subtracted pixel values. If the bias subtraction is working as intended,\n",
    "# this should be a Gaussian centered at 0.\n",
    "plt.hist(mean_1s_subtract.flatten(), bins=50, range=(bias_subtract_low, bias_subtract_high), histtype='step')\n",
    "plt.axvline(0, color='black', linestyle='dashed')\n",
    "plt.xlabel('Pixel Value Difference')\n",
    "plt.ylabel('Number of Pixels')\n",
    "label_plot(bias_stacks[1])\n",
    "plt.title('Mean Stack of 50 Dark 1s Exposures, Bias-Subtracted')\n",
    "# Add mean value in top right corner\n",
    "plt.text(0.95, 0.95, 'Mean: {:.2f}'.format(np.mean(bias_stacks[1][\"mean_img\"] - bias_stacks[0][\"mean_img\"])), horizontalalignment='right', verticalalignment='top', transform=plt.gca().transAxes)\n",
    "plt.show()\n",
    "\n",
    "# See if different regions of the sensor have different bias-subtracted behavior\n",
    "mean_1s_subtract_top_left = mean_1s_subtract[:1624, :1624]\n",
    "mean_1s_subtract_top_right = mean_1s_subtract[:1624, 6496:]\n",
    "mean_1s_subtract_bottom_left = mean_1s_subtract[6496:, :1624]\n",
    "mean_1s_subtract_bottom_right = mean_1s_subtract[6496:, 6496:]\n",
    "mean_1s_subtract_center = mean_1s_subtract[3248:4872, 3248:4872]\n",
    "plt.hist(mean_1s_subtract_top_left.flatten(), bins=100, range=(bias_subtract_low, bias_subtract_high), histtype='step', label='Top Left')\n",
    "plt.hist(mean_1s_subtract_top_right.flatten(), bins=100, range=(bias_subtract_low, bias_subtract_high), histtype='step', label='Top Right')\n",
    "plt.hist(mean_1s_subtract_bottom_left.flatten(), bins=100, range=(bias_subtract_low, bias_subtract_high), histtype='step', label='Bottom Left')\n",
    "plt.hist(mean_1s_subtract_bottom_right.flatten(), bins=100, range=(bias_subtract_low, bias_subtract_high), histtype='step', label='Bottom Right')\n",
    "plt.hist(mean_1s_subtract_center.flatten(), bins=100, range=(bias_subtract_low, bias_subtract_high), histtype='step', label='Center')\n",
    "plt.axvline(0, color='black', linestyle='dashed')\n",
    "plt.xlabel('Pixel Value Difference')\n",
    "plt.ylabel('Number of Pixels')\n",
    "label_plot(bias_stacks[1])\n",
    "plt.legend()\n",
    "plt.title('Pixel Values: Mean Stack of 1s Exposures, Bias-Subtracted')\n",
    "plt.show()\n",
    "\n",
    "# Plot a histogram of the bias-subtracted pixel values for all exposure times.\n",
    "for i, stack in enumerate(bias_stacks[1:]):\n",
    "    mean_subtract = stack[\"mean_img\"] - bias_stacks[0][\"mean_img\"]\n",
    "    plt.hist(mean_subtract.flatten(), bins=50, range=(bias_subtract_low, bias_subtract_high),\n",
    "             histtype='step', label='{} ms'.format(exp_times[i+1]/1000))\n",
    "plt.axvline(0, color='black', linestyle='dashed')\n",
    "plt.xlabel('Pixel Value Difference')\n",
    "plt.ylabel('Number of Pixels')\n",
    "plt.legend()\n",
    "label_plot(bias_stacks[0])\n",
    "plt.title('Mean Stack of 50 Dark 1s Exposures, Bias-Subtracted')\n",
    "plt.show()"
   ]
  },
  {
   "cell_type": "markdown",
   "metadata": {},
   "source": [
    "Check for any row-to-row variations, which can be indicative of different bias levels on different readout channels. We observed this behavior in the spring with rolling shutter modes."
   ]
  },
  {
   "cell_type": "code",
   "execution_count": null,
   "metadata": {},
   "outputs": [],
   "source": [
    "# Plot just the center 10 rows and center 50 columns in the bias frame\n",
    "plt.imshow(bias_stacks[0][\"mean_img\"][4060:4090, 4060:4090], vmin=bias_low, vmax=bias_high)\n",
    "plt.xlabel('Column Number (relative to sensor center)')\n",
    "plt.ylabel('Row Number (relative to sensor center)')\n",
    "plt.colorbar()\n",
    "label_plot(bias_stacks[0])\n",
    "plt.title('Zoomed-In View of Bias Frame Center')\n",
    "plt.show()\n",
    "\n",
    "even_rows_bias = np.mean(bias_stacks[0][\"mean_img\"][::2], axis=1)\n",
    "odd_rows_bias = np.mean(bias_stacks[0][\"mean_img\"][1::2], axis=1)\n",
    "even_cols_bias = np.mean(bias_stacks[0][\"mean_img\"][:, ::2], axis=0)\n",
    "odd_cols_bias = np.mean(bias_stacks[0][\"mean_img\"][:, 1::2], axis=0)\n",
    "plt.plot(np.arange(0, 8120, 2), even_rows_bias, label='Even Rows')\n",
    "plt.plot(np.arange(1, 8120, 2), odd_rows_bias, label='Odd Rows')\n",
    "plt.xlabel('Row Number')\n",
    "plt.ylabel('Mean Pixel Value in Row')\n",
    "plt.ylim(bias_low, bias_high)\n",
    "label_plot(bias_stacks[0])\n",
    "plt.legend()\n",
    "plt.title('Bias Frame Pixel Values Across Rows')\n",
    "plt.show()\n",
    "\n",
    "plt.plot(np.arange(0, 8120, 2), even_cols_bias, label='Even Columns')\n",
    "plt.plot(np.arange(1, 8120, 2), odd_cols_bias, label='Odd Columns')\n",
    "plt.xlabel('Column Number')\n",
    "plt.ylabel('Mean Pixel Value in Column')\n",
    "plt.ylim(bias_low, bias_high)\n",
    "label_plot(bias_stacks[0])\n",
    "plt.legend()\n",
    "plt.title('Bias Frame Pixel Values Across Columns')\n",
    "plt.show()\n"
   ]
  },
  {
   "cell_type": "markdown",
   "metadata": {},
   "source": [
    "Look at alternating row behavior for different exposure times."
   ]
  },
  {
   "cell_type": "code",
   "execution_count": null,
   "metadata": {},
   "outputs": [],
   "source": [
    "# See if there's any pattern in the bias frame pixel values every 4 rows.\n",
    "# We think 4 rows are read out at a time, so this would be possible.\n",
    "rows_mod_4_0 = np.mean(bias_stacks[0][\"mean_img\"][0::4], axis=1)\n",
    "rows_mod_4_1 = np.mean(bias_stacks[0][\"mean_img\"][1::4], axis=1)\n",
    "rows_mod_4_2 = np.mean(bias_stacks[0][\"mean_img\"][2::4], axis=1)\n",
    "rows_mod_4_3 = np.mean(bias_stacks[0][\"mean_img\"][3::4], axis=1)\n",
    "plt.plot(np.arange(0, 8120, 4), rows_mod_4_0, label='Row # Mod 4 = 0')\n",
    "plt.plot(np.arange(1, 8120, 4), rows_mod_4_1, label='Row # Mod 4 = 1')\n",
    "plt.plot(np.arange(2, 8120, 4), rows_mod_4_2, label='Row # Mod 4 = 2')\n",
    "plt.plot(np.arange(3, 8120, 4), rows_mod_4_3, label='Row # Mod 4 = 3')\n",
    "plt.xlabel('Row Number')\n",
    "plt.ylabel('Mean Pixel Value in Row')\n",
    "plt.ylim(bias_low, bias_high)\n",
    "label_plot(bias_stacks[0])\n",
    "plt.legend()\n",
    "plt.title('Bias Frame Pixel Values Across Rows')\n",
    "plt.show()\n",
    "\n",
    "even_rows_1s = np.mean(bias_stacks[1][\"mean_img\"][::2], axis=1)\n",
    "odd_rows_1s = np.mean(bias_stacks[1][\"mean_img\"][1::2], axis=1)\n",
    "plt.plot(np.arange(0, 8120, 2), even_rows_bias, label='Bias Frame, Even Rows')\n",
    "plt.plot(np.arange(0, 8120, 2), odd_rows_bias, label='Bias Frame, Odd Rows')\n",
    "plt.plot(np.arange(0, 8120, 2), even_rows_1s, label='1s Frame, Even Rows')\n",
    "plt.plot(np.arange(0, 8120, 2), odd_rows_1s, label='1s Frame, Odd Rows')\n",
    "plt.xlabel('Row Number')\n",
    "plt.ylabel('Mean Pixel Value in Row')\n",
    "plt.ylim(bias_low, bias_high)\n",
    "label_plot(bias_stacks[1])\n",
    "plt.legend()\n",
    "plt.title('Bias Frame and 1s Frame Pixel Values Across Rows')\n",
    "plt.show()\n",
    "\n",
    "color_blue = plt.rcParams['axes.prop_cycle'].by_key()['color'][0]\n",
    "color_orange = plt.rcParams['axes.prop_cycle'].by_key()['color'][1]\n",
    "plt.plot(np.arange(0, 8120, 2), even_rows_bias, label='Even Rows', color=color_blue)\n",
    "plt.plot(np.arange(0, 8120, 2), odd_rows_bias, label='Odd Rows', color=color_orange)\n",
    "plt.plot(np.arange(0, 8120, 2), even_rows_1s + 15, color=color_blue)\n",
    "plt.plot(np.arange(0, 8120, 2), odd_rows_1s + 15, color=color_orange)\n",
    "plt.xlabel('Row Number')\n",
    "plt.ylabel('Mean Pixel Value in Row + Offset')\n",
    "# Have to adjust limits to make this look nice\n",
    "# plt.ylim(200, 270)\n",
    "plt.xlim(0, 10000)\n",
    "label_plot(bias_stacks[0])\n",
    "# Put label for bias as text on right\n",
    "# plt.text(8200, 200, 'Bias Frame')\n",
    "# plt.text(8200, 215, '1s Frame')\n",
    "# plt.text(8200, 230, '5s Frame')\n",
    "# plt.text(8200, 218, '30s Frame')\n",
    "plt.title('Alternating Row Behavior at Different Exposure Times')\n",
    "plt.legend()\n",
    "plt.show()\n"
   ]
  }
 ],
 "metadata": {
  "kernelspec": {
   "display_name": "base",
   "language": "python",
   "name": "python3"
  },
  "language_info": {
   "codemirror_mode": {
    "name": "ipython",
    "version": 3
   },
   "file_extension": ".py",
   "mimetype": "text/x-python",
   "name": "python",
   "nbconvert_exporter": "python",
   "pygments_lexer": "ipython3",
   "version": "3.9.12"
  }
 },
 "nbformat": 4,
 "nbformat_minor": 2
}
