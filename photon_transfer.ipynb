{
 "cells": [
  {
   "cell_type": "markdown",
   "metadata": {},
   "source": [
    "# Photon Transfer Notebook"
   ]
  },
  {
   "cell_type": "markdown",
   "metadata": {},
   "source": [
    "Analyze ramp data, creating linearity and photon transfer curves."
   ]
  },
  {
   "cell_type": "code",
   "execution_count": 9,
   "metadata": {},
   "outputs": [
    {
     "name": "stdout",
     "output_type": "stream",
     "text": [
      "The autoreload extension is already loaded. To reload it, use:\n",
      "  %reload_ext autoreload\n"
     ]
    }
   ],
   "source": [
    "# Make sure that any changes to the dependencies are automatically updated\n",
    "%load_ext autoreload\n",
    "%autoreload 2\n",
    "\n",
    "import os\n",
    "import numpy as np\n",
    "import matplotlib.pyplot as plt\n",
    "# Tools for opening image stacks and relevant data from fits headers\n",
    "from cosmos_helper_funcs import get_stacks, label_plot, cosmos_gain_dict, get_mean_images\n",
    "# Tools for making defect pixel histograms\n",
    "from defect_pixel_funcs import *\n",
    "from scipy.optimize import curve_fit"
   ]
  },
  {
   "cell_type": "code",
   "execution_count": 10,
   "metadata": {},
   "outputs": [
    {
     "name": "stdout",
     "output_type": "stream",
     "text": [
      "Now reading /Users/layden/Library/CloudStorage/Box-Box/Scientific CMOS - MKI ONLY (might contain EAR; ITAR)/Teledyne_COSMOS/Analysis Images/PTC Ramps/HS_HG_RS/HSHG_RS_light_30ms_-25C 2024-10-02 11_53_51.fits\n",
      "Now reading /Users/layden/Library/CloudStorage/Box-Box/Scientific CMOS - MKI ONLY (might contain EAR; ITAR)/Teledyne_COSMOS/Analysis Images/PTC Ramps/HS_HG_RS/HSHG_RS_light_40ms_-25C 2024-10-02 11_54_13.fits\n",
      "Now reading /Users/layden/Library/CloudStorage/Box-Box/Scientific CMOS - MKI ONLY (might contain EAR; ITAR)/Teledyne_COSMOS/Analysis Images/PTC Ramps/HS_HG_RS/HSHG_RS_light_20ms_-25C 2024-10-02 11_53_29.fits\n",
      "Now reading /Users/layden/Library/CloudStorage/Box-Box/Scientific CMOS - MKI ONLY (might contain EAR; ITAR)/Teledyne_COSMOS/Analysis Images/PTC Ramps/HS_HG_RS/HSHG_RS_light_1us_-25C 2024-10-02 11_51_47.fits\n",
      "Now reading /Users/layden/Library/CloudStorage/Box-Box/Scientific CMOS - MKI ONLY (might contain EAR; ITAR)/Teledyne_COSMOS/Analysis Images/PTC Ramps/HS_HG_RS/HSHG_RS_light_5ms_-25C 2024-10-02 11_52_44.fits\n",
      "Now reading /Users/layden/Library/CloudStorage/Box-Box/Scientific CMOS - MKI ONLY (might contain EAR; ITAR)/Teledyne_COSMOS/Analysis Images/PTC Ramps/HS_HG_RS/HSHG_RS_light_50ms_-25C 2024-10-02 11_54_35.fits\n",
      "Now reading /Users/layden/Library/CloudStorage/Box-Box/Scientific CMOS - MKI ONLY (might contain EAR; ITAR)/Teledyne_COSMOS/Analysis Images/PTC Ramps/HS_HG_RS/HSHG_RS_light_1ms_-25C 2024-10-02 11_52_16.fits\n",
      "Now reading /Users/layden/Library/CloudStorage/Box-Box/Scientific CMOS - MKI ONLY (might contain EAR; ITAR)/Teledyne_COSMOS/Analysis Images/PTC Ramps/HS_HG_RS/HSHG_RS_light_10ms_-25C 2024-10-02 11_53_06.fits\n"
     ]
    }
   ],
   "source": [
    "# The folder in which a PTC ramp is stored\n",
    "ramp_folder = '/Users/layden/Library/CloudStorage/Box-Box/Scientific CMOS - MKI ONLY (might contain EAR; ITAR)/Teledyne_COSMOS/Analysis Images/PTC Ramps/HS_HG_RS'\n",
    "# Load the files containing the image stacks for the ramp. For each stack, extract only the mean image and the standard deviation image\n",
    "ramp_images = get_stacks(ramp_folder, get_mean_img=True, get_var_img=True, num_imgs=0)"
   ]
  },
  {
   "cell_type": "code",
   "execution_count": 13,
   "metadata": {},
   "outputs": [],
   "source": [
    "# Sort bias_stacks by exposure time\n",
    "ramp_images = sorted(ramp_images, key=lambda x: float(x[\"exposure_ms\"]))\n",
    "exp_times = np.array([float(x[\"exposure_ms\"]) for x in ramp_images])\n",
    "mean_vals = np.array([x[\"mean_img\"].mean() for x in ramp_images])\n",
    "var_vals = np.array([x[\"std_img\"].mean() for x in ramp_images])"
   ]
  },
  {
   "cell_type": "code",
   "execution_count": 15,
   "metadata": {},
   "outputs": [
    {
     "data": {
      "image/png": "[encoded data removed]",
      "text/plain": [
       "<Figure size 640x480 with 1 Axes>"
      ]
     },
     "metadata": {},
     "output_type": "display_data"
    }
   ],
   "source": [
    "plt.plot(mean_vals, var_vals, 'o')\n",
    "plt.show()"
   ]
  },
  {
   "cell_type": "code",
   "execution_count": null,
   "metadata": {},
   "outputs": [],
   "source": []
  }
 ],
 "metadata": {
  "kernelspec": {
   "display_name": "base",
   "language": "python",
   "name": "python3"
  },
  "language_info": {
   "codemirror_mode": {
    "name": "ipython",
    "version": 3
   },
   "file_extension": ".py",
   "mimetype": "text/x-python",
   "name": "python",
   "nbconvert_exporter": "python",
   "pygments_lexer": "ipython3",
   "version": "3.9.12"
  }
 },
 "nbformat": 4,
 "nbformat_minor": 2
}
