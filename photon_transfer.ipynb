{
 "cells": [
  {
   "cell_type": "markdown",
   "metadata": {},
   "source": [
    "# Photon Transfer Notebook"
   ]
  },
  {
   "cell_type": "markdown",
   "metadata": {},
   "source": [
    "Analyze ramp data, creating linearity and photon transfer curves."
   ]
  },
  {
   "cell_type": "code",
   "execution_count": 1,
   "metadata": {},
   "outputs": [],
   "source": [
    "# Make sure that any changes to the dependencies are automatically updated\n",
    "%load_ext autoreload\n",
    "%autoreload 2\n",
    "\n",
    "import os\n",
    "import numpy as np\n",
    "import matplotlib.pyplot as plt\n",
    "# Tools for opening image stacks and relevant data from fits headers\n",
    "from cosmos_helper_funcs import get_stacks, label_plot, cosmos_gain_dict, get_mean_images\n",
    "# Tools for making defect pixel histograms\n",
    "from defect_pixel_funcs import *\n",
    "from scipy.optimize import curve_fit"
   ]
  },
  {
   "cell_type": "code",
   "execution_count": null,
   "metadata": {},
   "outputs": [],
   "source": [
    "# The folder in which a PTC ramp is stored\n",
    "ramp_folder = '/Users/layden/Library/CloudStorage/Box-Box/Scientific CMOS - MKI ONLY (might contain EAR; ITAR)/Teledyne_COSMOS/MKI Lab data/10-11-2024/Mask Ramps/HSHG_RS/Light'\n",
    "# Load the files containing the image stacks for the ramp. For each stack, extract only the mean image and the standard deviation image\n",
    "ramp_images = get_stacks(ramp_folder, get_mean_img=True, get_var_img=False, num_imgs=0, datatype='int')"
   ]
  },
  {
   "cell_type": "code",
   "execution_count": null,
   "metadata": {},
   "outputs": [],
   "source": [
    "# The folder in which a PTC ramp is stored\n",
    "dark_folder = '/Users/layden/Library/CloudStorage/Box-Box/Scientific CMOS - MKI ONLY (might contain EAR; ITAR)/Teledyne_COSMOS/MKI Lab data/10-11-2024/Mask Ramps/HSHG_RS/Dark'\n",
    "# Load the files containing the image stacks for the ramp. For each stack, extract only the mean image and the standard deviation image\n",
    "dark_images = get_stacks(dark_folder, get_mean_img=True, get_var_img=False, num_imgs=0, datatype='int')"
   ]
  },
  {
   "cell_type": "code",
   "execution_count": 7,
   "metadata": {},
   "outputs": [],
   "source": [
    "# Sort bias_stacks by exposure time\n",
    "ramp_images = sorted(ramp_images, key=lambda x: float(x[\"exposure_ms\"]))\n",
    "dark_images = sorted(dark_images, key=lambda x: float(x[\"exposure_ms\"]))\n",
    "exp_times_light = np.array([float(x[\"exposure_ms\"]) for x in ramp_images])\n",
    "exp_times_dark = np.array([float(x[\"exposure_ms\"]) for x in dark_images])\n",
    "for i, frame in enumerate(ramp_images):\n",
    "    frame[\"mean_img\"] = frame[\"mean_img\"] - dark_images[i][\"mean_img\"]"
   ]
  },
  {
   "cell_type": "code",
   "execution_count": 8,
   "metadata": {},
   "outputs": [],
   "source": [
    "row_100_vals = np.array([x[\"mean_img\"][90:110, :].mean(axis=0) for x in ramp_images])"
   ]
  },
  {
   "cell_type": "code",
   "execution_count": null,
   "metadata": {},
   "outputs": [],
   "source": [
    "%matplotlib qt\n",
    "exp_times_array = np.zeros((9, len(exp_times_light)))\n",
    "illumination_factors = [1, 1.0133, 1.0338, 1.067, 1, 1, 1, 1, 1]\n",
    "for i in range(9):\n",
    "    illumination_factor = row_100_vals[70, 0] / row_100_vals[70, i * 1000]\n",
    "    print(illumination_factor)\n",
    "    exp_times_array[i] = exp_times_light / illumination_factors[i]\n",
    "    plt.scatter(exp_times_array[i], row_100_vals[:, i * 1000], s=2, label=f'Row 100, Col {i * 1000}')\n",
    "plt.xlabel('Corrected Exposure time (ms)')\n",
    "plt.ylabel('Mean pixel value (ADU)')\n",
    "plt.legend()\n",
    "plt.show()"
   ]
  },
  {
   "cell_type": "code",
   "execution_count": null,
   "metadata": {},
   "outputs": [],
   "source": [
    "print(ramp_images[0][\"mean_img\"])"
   ]
  },
  {
   "cell_type": "code",
   "execution_count": null,
   "metadata": {},
   "outputs": [],
   "source": []
  }
 ],
 "metadata": {
  "kernelspec": {
   "display_name": "base",
   "language": "python",
   "name": "python3"
  },
  "language_info": {
   "codemirror_mode": {
    "name": "ipython",
    "version": 3
   },
   "file_extension": ".py",
   "mimetype": "text/x-python",
   "name": "python",
   "nbconvert_exporter": "python",
   "pygments_lexer": "ipython3",
   "version": "3.9.12"
  }
 },
 "nbformat": 4,
 "nbformat_minor": 2
}
