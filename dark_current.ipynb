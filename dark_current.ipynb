{
 "cells": [
  {
   "cell_type": "code",
   "execution_count": 3,
   "metadata": {},
   "outputs": [
    {
     "name": "stdout",
     "output_type": "stream",
     "text": [
      "The autoreload extension is already loaded. To reload it, use:\n",
      "  %reload_ext autoreload\n"
     ]
    }
   ],
   "source": [
    "# Load dependencies\n",
    "%load_ext autoreload\n",
    "%autoreload 2\n",
    "\n",
    "import os\n",
    "import numpy as np\n",
    "import matplotlib.pyplot as plt\n",
    "from cosmos_helper_funcs import *\n",
    "from defect_pixel_funcs import *"
   ]
  },
  {
   "cell_type": "code",
   "execution_count": null,
   "metadata": {},
   "outputs": [],
   "source": [
    "# Load dark current data\n",
    "dark_current_folder_CMS = '/Users/layden/Library/CloudStorage/Box-Box/Scientific CMOS - MKI ONLY (might contain EAR; ITAR)/Teledyne_COSMOS/Analysis Images/Dark Current/CMS'\n",
    "dark_current_folder_HSHGRS = '/Users/layden/Library/CloudStorage/Box-Box/Scientific CMOS - MKI ONLY (might contain EAR; ITAR)/Teledyne_COSMOS/Analysis Images/Dark Current/HS_HG_RS'\n",
    "# Each element of stacks is a dictionary containing header information and the image data.\n",
    "# The image data is an NxMxL array, where N is the number of frames, M is the number of rows,\n",
    "# and L is the number of columns.\n",
    "stacks_CMS = get_stacks(dark_current_folder_CMS, get_mean_img=True, get_median_img=True, num_imgs=0)\n",
    "stacks_HSHGRS = get_stacks(dark_current_folder_HSHGRS, get_mean_img=True, get_median_img=True, num_imgs=0)\n"
   ]
  },
  {
   "cell_type": "code",
   "execution_count": 47,
   "metadata": {},
   "outputs": [],
   "source": [
    "gain_CMS = 4.0\n",
    "gain_HSHGRS = 1 / 1.024\n",
    "# Sort stacks by exposure time to get bias frame\n",
    "stacks_CMS = sorted(stacks_CMS, key=lambda x: x['exposure_ms'])\n",
    "stacks_HSHGRS = sorted(stacks_HSHGRS, key=lambda x: x['exposure_ms'])\n",
    "bias_frame_CMS = stacks_CMS[0]['mean_img']\n",
    "bias_frame_HSHGRS = stacks_HSHGRS[0]['mean_img']\n",
    "long_exposure_stacks_CMS = stacks_CMS[1:]\n",
    "long_exposure_stacks_HSHGRS = stacks_HSHGRS[1:]\n",
    "# Sort long exposure stacks by temperature\n",
    "long_exposure_stacks_CMS = sorted(long_exposure_stacks_CMS, key=lambda x: int(x['cam_temp_Cel']))\n",
    "long_exposure_stacks_HSHGRS = sorted(long_exposure_stacks_HSHGRS, key=lambda x: int(x['cam_temp_Cel']))\n",
    "temps_CMS = np.zeros(len(stacks_CMS) - 1)\n",
    "dc_rate_frames = np.zeros((len(stacks_CMS) - 1, 8120, 8120))\n",
    "for i, stack in enumerate(long_exposure_stacks_CMS):\n",
    "    temps_CMS[i] = stack['cam_temp_Cel']\n",
    "    clean_frame = stack['mean_img'] - bias_frame_CMS\n",
    "    dc_rate_frame = clean_frame / (int(stack['exposure_ms']) / 1000) / gain_CMS\n",
    "    dc_rate_frames[i] = dc_rate_frame\n",
    "    mean_val = np.mean(dc_rate_frame)\n",
    "    median_val = np.median(dc_rate_frame)\n",
    "    percentile_1 = np.percentile(dc_rate_frame, 1)\n",
    "    percentile_95 = np.percentile(dc_rate_frame, 95)\n",
    "    # plt.hist(dc_rate_frame.flatten(), bins=100, range=(min([0,percentile_1]), percentile_95))\n",
    "    # # Put vertical lines labeling the mean, median, and rms values\n",
    "    # plt.axvline(mean_val, color='r', linestyle='dashed', linewidth=1)\n",
    "    # plt.axvline(median_val, color='g', linestyle='dashed', linewidth=1)\n",
    "    # # Write the temperature, mean value, median value, and rms value on the plot. Color the text\n",
    "    # # to match the lines\n",
    "    # plt.text(0.95, 0.95, f'Temperature: {stack[\"cam_temp_Cel\"]} C', ha='right', va='top', transform=plt.gca().transAxes)\n",
    "    # plt.text(0.95, 0.9, f'Mean: {mean_val:.3f} e-/pix/s', ha='right', va='top', color='r', transform=plt.gca().transAxes)\n",
    "    # plt.text(0.95, 0.85, f'Median: {median_val:.3f} e-/pix/s', ha='right', va='top', color='g', transform=plt.gca().transAxes)\n",
    "    # plt.xlabel('Dark Current Rate (e-/pix/s)')\n",
    "    # plt.ylabel('Number of Pixels')\n",
    "    # plt.show()\n",
    "# dc_vals_CMS = np.zeros(len(stacks_CMS) - 1)\n",
    "# mean_vals_CMS = np.zeros(len(stacks_CMS) - 1)\n",
    "# rms_vals_CMS = np.zeros(len(stacks_CMS) - 1)\n",
    "# bias_val_CMS = 0\n",
    "# temps_HSHGRS = np.zeros(len(stacks_HSHGRS) - 1)\n",
    "# dc_vals_HSHGRS = np.zeros(len(stacks_HSHGRS) - 1)\n",
    "# bias_val_HSHGRS = 0\n",
    "# i = 0\n",
    "# j = 0\n",
    "# for stack in stacks_CMS:\n",
    "#     mean_val = np.mean(stack['mean_img'])\n",
    "#     rms_val = np.sqrt(np.mean(stack['mean_img'] ** 2))\n",
    "#     if stack['exposure_ms'] == '600000':\n",
    "#         temps_CMS[i] = stack['cam_temp_Cel']\n",
    "#         dc_vals_CMS[i] = mean_val\n",
    "#         i += 1\n",
    "#     else:\n",
    "#         bias_val_CMS = mean_val\n",
    "# for stack in stacks_HSHGRS:\n",
    "#     mean_val = np.mean(stack['mean_img'])\n",
    "#     if stack['exposure_ms'] == '600000':\n",
    "#         temps_HSHGRS[j] = stack['cam_temp_Cel']\n",
    "#         dc_vals_HSHGRS[j] = mean_val\n",
    "#         j += 1\n",
    "#     else:\n",
    "#         bias_val_HSHGRS = mean_val\n",
    "# # Sort by temperature\n",
    "# sort_indices_CMS = np.argsort(temps_CMS)\n",
    "# temps_CMS = temps_CMS[sort_indices_CMS]\n",
    "# dc_vals_CMS = dc_vals_CMS[sort_indices_CMS]\n",
    "# sort_indices_HSHGRS = np.argsort(temps_HSHGRS)\n",
    "# temps_HSHGRS = temps_HSHGRS[sort_indices_HSHGRS]\n",
    "# dc_vals_HSHGRS = dc_vals_HSHGRS[sort_indices_HSHGRS]\n",
    "# print(dc_vals_CMS)"
   ]
  },
  {
   "cell_type": "code",
   "execution_count": null,
   "metadata": {},
   "outputs": [],
   "source": [
    "%matplotlib inline\n",
    "neg_25_frame = dc_rate_frames[2]\n",
    "defectMap = plot_defect_hist(neg_25_frame, show_gaussian=False, clip_type='absolute', cutoff_level=1.0, cut_low=False)[0]"
   ]
  },
  {
   "cell_type": "code",
   "execution_count": null,
   "metadata": {},
   "outputs": [],
   "source": [
    "# Figure out the number of defect pixels in the bottom 100 rows\n",
    "num_defect_pixels = np.sum(defectMap[-100:])\n",
    "print(num_defect_pixels)"
   ]
  },
  {
   "cell_type": "code",
   "execution_count": null,
   "metadata": {},
   "outputs": [],
   "source": [
    "# Fit function to dark current vs. temperature to find doubling temperature\n",
    "def func(x, a, b):\n",
    "    return a * np.exp(b * x)\n",
    "\n",
    "from scipy.optimize import curve_fit\n",
    "popt_CMS, pcov_CMS = curve_fit(func, temps_CMS, dc_vals_CMS)\n",
    "popt_HSHGRS, pcov_HSHGRS = curve_fit(func, temps_HSHGRS, dc_vals_HSHGRS)\n",
    "print('Doubling temperature for CMS mode: ', np.log(2) / popt_CMS[1])\n",
    "print('Doubling temperature for 14b High Speed Rolling Shutter mode: ', np.log(2) / popt_HSHGRS[1])\n"
   ]
  },
  {
   "cell_type": "code",
   "execution_count": null,
   "metadata": {},
   "outputs": [],
   "source": [
    "%matplotlib inline\n",
    "# Load spot data\n",
    "filename = '/Users/layden/Downloads/spot_data.csv'\n",
    "spot_data = np.genfromtxt(filename, delimiter=',', skip_header=1)\n",
    "spot_data[:, 1] -= 14\n",
    "spot_data[:, 1] = spot_data[:, 1] / np.max(spot_data[:, 1])\n",
    "spot_data[:,0] = spot_data[:,0] * 0.2 - 7.88\n",
    "plt.plot(spot_data[:,0], spot_data[:,1])\n",
    "# Make axis titles larger\n",
    "plt.xticks(fontsize=14)\n",
    "plt.yticks(fontsize=14)\n",
    "plt.xlabel('Position (um)', fontsize=16)\n",
    "plt.ylabel('Relative Intensity', fontsize=16)\n",
    "# Write the FWHM value (1.2)\n",
    "plt.text(-7.5, 0.4, 'FWHM: 1.2 um', fontsize=14)\n",
    "plt.text(-7.5, 0.1, 'Diffraction Limit\\n FWHM: 1.1 um', fontsize=14)\n",
    "plt.show()"
   ]
  },
  {
   "cell_type": "markdown",
   "metadata": {},
   "source": [
    "Try to extract the read noise using dark current data"
   ]
  },
  {
   "cell_type": "code",
   "execution_count": 4,
   "metadata": {},
   "outputs": [
    {
     "name": "stdout",
     "output_type": "stream",
     "text": [
      "Now reading /Users/layden/Library/CloudStorage/Box-Box/Scientific CMOS - MKI ONLY (might contain EAR; ITAR)/Teledyne_COSMOS/Analysis Images/Read Noise/Dark Images/HSHG_RS_dark_30000ms_15C 2024-09-28 06_41_17.fits\n",
      "Now reading /Users/layden/Library/CloudStorage/Box-Box/Scientific CMOS - MKI ONLY (might contain EAR; ITAR)/Teledyne_COSMOS/Analysis Images/Read Noise/Dark Images/HSHG_RS_dark_60000ms_15C 2024-09-28 06_51_54.fits\n",
      "Now reading /Users/layden/Library/CloudStorage/Box-Box/Scientific CMOS - MKI ONLY (might contain EAR; ITAR)/Teledyne_COSMOS/Analysis Images/Read Noise/Dark Images/HSHG_RS_dark_1us_-25C 2024-09-28 22_03_08.fits\n",
      "Now reading /Users/layden/Library/CloudStorage/Box-Box/Scientific CMOS - MKI ONLY (might contain EAR; ITAR)/Teledyne_COSMOS/Analysis Images/Read Noise/Dark Images/HSHG_RS_dark_30000ms_10C 2024-09-28 09_44_26.fits\n"
     ]
    }
   ],
   "source": [
    "data_folder = '/Users/layden/Library/CloudStorage/Box-Box/Scientific CMOS - MKI ONLY (might contain EAR; ITAR)/Teledyne_COSMOS/Analysis Images/Read Noise/Dark Images'\n",
    "stacks = get_stacks(data_folder, get_mean_img=True, get_var_img=False)"
   ]
  },
  {
   "cell_type": "code",
   "execution_count": 6,
   "metadata": {},
   "outputs": [],
   "source": [
    "poly_coefficients = np.array([-1.11332005e-31, 9.83489385e-28, -3.83481258e-24,  8.69244319e-21,\n",
    "                              -1.26915294e-17, 1.24869164e-14, -8.40577356e-12,  3.84719377e-09,\n",
    "                              -1.16671178e-06, 2.24630045e-04, -2.65071660e-02,  3.25187633e+00])\n"
   ]
  },
  {
   "cell_type": "code",
   "execution_count": 7,
   "metadata": {},
   "outputs": [],
   "source": [
    "subtracted_30s_frames = np.array([img - stacks[2]['mean_img'] for img in stacks[0]['imagestack']])\n",
    "# Set values that are greater than 1600 to np.NaN\n",
    "subtracted_30s_frames[subtracted_30s_frames > 1450] = np.NaN\n",
    "corrected_30s_frames = np.polyval(poly_coefficients, subtracted_30s_frames) * subtracted_30s_frames"
   ]
  },
  {
   "cell_type": "code",
   "execution_count": 16,
   "metadata": {},
   "outputs": [],
   "source": [
    "subtracted_60s_frames = np.array([img - stacks[2]['mean_img'] for img in stacks[3]['imagestack']])\n",
    "# Set values that are greater than 1600 to np.NaN\n",
    "subtracted_60s_frames[subtracted_60s_frames > 1450] = np.NaN\n",
    "corrected_60s_frames = np.polyval(poly_coefficients, subtracted_60s_frames) * subtracted_60s_frames"
   ]
  },
  {
   "cell_type": "code",
   "execution_count": 17,
   "metadata": {},
   "outputs": [],
   "source": [
    "avg_frame_30s = np.mean(corrected_30s_frames, axis=0)\n",
    "var_frame_30s = np.var(corrected_30s_frames, axis=0, ddof=1)\n",
    "avg_frame_60s = np.mean(corrected_60s_frames, axis=0)\n",
    "var_frame_60s = np.var(corrected_60s_frames, axis=0, ddof=1)"
   ]
  },
  {
   "cell_type": "code",
   "execution_count": 18,
   "metadata": {},
   "outputs": [
    {
     "name": "stdout",
     "output_type": "stream",
     "text": [
      "205.77015429013227\n"
     ]
    }
   ],
   "source": [
    "print(np.nanmedian(avg_frame_60s))"
   ]
  },
  {
   "cell_type": "code",
   "execution_count": 25,
   "metadata": {},
   "outputs": [],
   "source": [
    "from scipy.optimize import curve_fit\n",
    "def gaussian(x, A, mu, sigma, C):\n",
    "    return A * np.exp(-(x - mu) ** 2 / (2 * sigma ** 2)) + C"
   ]
  },
  {
   "cell_type": "code",
   "execution_count": 28,
   "metadata": {},
   "outputs": [
    {
     "name": "stdout",
     "output_type": "stream",
     "text": [
      "49.70643697853737 57.16115214354052\n",
      "[1.00021028e+07 4.52685529e+01 1.50393398e+02 2.25803273e+04] [1.75545736e+07 5.23926226e+01 8.47035672e+01 3.54428702e+04]\n"
     ]
    },
    {
     "data": {
      "image/png": "[encoded data removed]",
      "text/plain": [
       "<Figure size 640x480 with 1 Axes>"
      ]
     },
     "metadata": {},
     "output_type": "display_data"
    }
   ],
   "source": [
    "%matplotlib inline\n",
    "gain = 1 / 1.021 # ADU/e-\n",
    "read_variance_array_30s = var_frame_30s / gain - avg_frame_30s\n",
    "read_variance_array_60s = var_frame_60s / gain - avg_frame_60s\n",
    "print(np.nanmedian(read_variance_array_30s), np.nanmedian(read_variance_array_60s))\n",
    "read_noise_30s = np.sqrt(np.nanmedian(read_variance_array_30s))\n",
    "read_noise_60s = np.sqrt(np.nanmedian(read_variance_array_60s))\n",
    "# Make histograms just lines, not filled bars\n",
    "hist1, bin_edges1, patches1  = plt.hist(read_variance_array_30s.flatten(), bins=100, range=(-2000, 4000), histtype='step', label='30s Dark Frame')\n",
    "hist2, bin_edges2, patches2 = plt.hist(read_variance_array_60s.flatten(), bins=100, range=(-2000, 4000), histtype='step', label='60s Dark Frame')\n",
    "# Fit Gaussians to histograms\n",
    "bin_centers1 = (bin_edges1[:-1] + bin_edges1[1:]) / 2\n",
    "bin_centers2 = (bin_edges2[:-1] + bin_edges2[1:]) / 2\n",
    "popt1, pcov1 = curve_fit(gaussian, bin_centers1, hist1, p0=[1E7, 0, 500, 1000])\n",
    "popt2, pcov2 = curve_fit(gaussian, bin_centers2, hist2, p0=[1E7, 0, 500, 1000])\n",
    "print(popt1, popt2)\n",
    "# Plot the fitted Gaussians\n",
    "plt.plot(bin_centers1, gaussian(bin_centers1, *popt1), 'r--', label='Fit to 15C Dark Frame')\n",
    "plt.plot(bin_centers2, gaussian(bin_centers2, *popt2), 'g--', label='Fit to 10C Dark Frame')\n",
    "# Print medians\n",
    "plt.text(0.95, 0.95, f'Read Noise (15C): {np.sqrt(np.nanmedian(read_variance_array_30s)):.3f} e-', ha='right', va='top', transform=plt.gca().transAxes)\n",
    "plt.text(0.95, 0.9, f'Read Noise (10C): {np.sqrt(np.nanmedian(read_variance_array_60s)):.3f} e-', ha='right', va='top', transform=plt.gca().transAxes)\n",
    "plt.xlabel('Difference Between Variance and Expected Variance from Dark Current')\n",
    "plt.ylabel('Number of Pixels')\n",
    "plt.yscale('log')\n",
    "plt.show()"
   ]
  },
  {
   "cell_type": "code",
   "execution_count": 28,
   "metadata": {},
   "outputs": [],
   "source": [
    "%matplotlib qt\n",
    "plt.imshow(read_noise_array_60s, vmin=0, vmax=20)\n",
    "plt.colorbar()\n",
    "plt.show()"
   ]
  },
  {
   "cell_type": "code",
   "execution_count": null,
   "metadata": {},
   "outputs": [],
   "source": []
  }
 ],
 "metadata": {
  "kernelspec": {
   "display_name": "base",
   "language": "python",
   "name": "python3"
  },
  "language_info": {
   "codemirror_mode": {
    "name": "ipython",
    "version": 3
   },
   "file_extension": ".py",
   "mimetype": "text/x-python",
   "name": "python",
   "nbconvert_exporter": "python",
   "pygments_lexer": "ipython3",
   "version": "3.9.12"
  }
 },
 "nbformat": 4,
 "nbformat_minor": 2
}
