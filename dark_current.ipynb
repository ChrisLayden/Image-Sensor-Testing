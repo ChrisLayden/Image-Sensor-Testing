{
 "cells": [
  {
   "cell_type": "code",
   "execution_count": null,
   "metadata": {},
   "outputs": [],
   "source": [
    "# Load dependencies\n",
    "%load_ext autoreload\n",
    "%autoreload 2\n",
    "\n",
    "import os\n",
    "import numpy as np\n",
    "import matplotlib.pyplot as plt\n",
    "from cosmos_helper_funcs import *"
   ]
  },
  {
   "cell_type": "code",
   "execution_count": null,
   "metadata": {},
   "outputs": [],
   "source": [
    "# Load dark current data\n",
    "dark_current_folder = \"/Volumes/LAYDENUSB/UROP Data/HS_HG_RS Dark Current Data\"\n",
    "# Each element of stacks is a dictionary containing header information and the image data.\n",
    "# The image data is an NxMxL array, where N is the number of frames, M is the number of rows,\n",
    "# and L is the number of columns.\n",
    "stacks = get_stacks(dark_current_folder)\n"
   ]
  },
  {
   "cell_type": "code",
   "execution_count": null,
   "metadata": {},
   "outputs": [],
   "source": [
    "# Calculate mean frame for each temperature\n",
    "temp_list = [-25, -20, -10, 0, 10, 15]\n",
    "# May need to change indexing based on where files go in your computer\n",
    "mean_stack_neg25C = np.mean(stacks[2]['imagestack'], axis=0)\n",
    "mean_stack_neg20C = np.mean(stacks[1]['imagestack'], axis=0)\n",
    "mean_stack_neg10C = np.mean(stacks[0]['imagestack'], axis=0)\n",
    "mean_stack_0C = np.mean(stacks[3]['imagestack'], axis=0)\n",
    "mean_stack_10C = np.mean(stacks[4]['imagestack'], axis=0)\n",
    "mean_stack_15C = np.mean(stacks[5]['imagestack'], axis=0)"
   ]
  },
  {
   "cell_type": "code",
   "execution_count": null,
   "metadata": {},
   "outputs": [],
   "source": [
    "# Get the median dark current for each temperature from each mean frame.\n",
    "median_dc_neg25C = np.median(mean_stack_neg25C)\n",
    "median_dc_neg20C = np.median(mean_stack_neg20C)\n",
    "median_dc_neg10C = np.median(mean_stack_neg10C)\n",
    "median_dc_0C = np.median(mean_stack_0C)\n",
    "median_dc_10C = np.median(mean_stack_10C)\n",
    "median_dc_15C = np.median(mean_stack_15C)\n",
    "dc_list = [median_dc_neg25C, median_dc_neg20C, median_dc_neg10C, median_dc_0C, median_dc_10C, median_dc_15C]\n"
   ]
  },
  {
   "cell_type": "code",
   "execution_count": null,
   "metadata": {},
   "outputs": [],
   "source": [
    "# Plot\n",
    "plt.plot(temp_list, dc_list, 'o')\n",
    "plt.xlabel('Temperature (C)')\n",
    "plt.ylabel('Dark Current (ADU)')\n",
    "plt.title('Dark Current vs. Temperature')\n",
    "plt.show()"
   ]
  },
  {
   "cell_type": "code",
   "execution_count": null,
   "metadata": {},
   "outputs": [],
   "source": [
    "# Fit function to dark current vs. temperature to find doubling temperature\n",
    "def func(x, a, b):\n",
    "    return a * np.exp(b * x)\n"
   ]
  }
 ],
 "metadata": {
  "kernelspec": {
   "display_name": "base",
   "language": "python",
   "name": "python3"
  },
  "language_info": {
   "codemirror_mode": {
    "name": "ipython",
    "version": 3
   },
   "file_extension": ".py",
   "mimetype": "text/x-python",
   "name": "python",
   "nbconvert_exporter": "python",
   "pygments_lexer": "ipython3",
   "version": "3.9.12"
  }
 },
 "nbformat": 4,
 "nbformat_minor": 2
}
