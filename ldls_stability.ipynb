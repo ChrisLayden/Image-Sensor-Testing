{
 "cells": [
  {
   "cell_type": "code",
   "execution_count": 1,
   "metadata": {},
   "outputs": [],
   "source": [
    "import numpy as np\n",
    "import matplotlib.pyplot as plt"
   ]
  },
  {
   "cell_type": "code",
   "execution_count": 2,
   "metadata": {},
   "outputs": [],
   "source": [
    "# Load csv with readings as numpy array of strings\n",
    "readings = np.loadtxt('/Volumes/LAYDENUSB/ramp_pd_readings.csv', delimiter=',', dtype='str')\n",
    "# Convert the first column to seconds. Need to cut off the starting '10-07-' and convert from 'HH:MM:SS:MS' to seconds\n",
    "readings[:,0] = [t[6:] for t in readings[:,0]]\n",
    "time = np.array([float(h)*3600 + float(m)*60 + float(s) for h, m, s in [t.split(':') for t in readings[:,0]]])\n",
    "readings[:,0] = time\n",
    "# Convert whole array into floats\n",
    "readings = readings.astype(float)\n",
    "readings[:,1] *= 1e9"
   ]
  },
  {
   "cell_type": "code",
   "execution_count": 5,
   "metadata": {},
   "outputs": [
    {
     "ename": "",
     "evalue": "",
     "output_type": "error",
     "traceback": [
      "\u001b[1;31mThe Kernel crashed while executing code in the current cell or a previous cell. \n",
      "\u001b[1;31mPlease review the code in the cell(s) to identify a possible cause of the failure. \n",
      "\u001b[1;31mClick <a href='https://aka.ms/vscodeJupyterKernelCrash'>here</a> for more info. \n",
      "\u001b[1;31mView Jupyter <a href='command:jupyter.viewOutput'>log</a> for further details."
     ]
    }
   ],
   "source": [
    "%matplotlib qt\n",
    "# First test began with stabilization off at 14:32:00\n",
    "stab_off_time = 14 * 3600 + 32 * 60\n",
    "# Test began with stabilization on at 15:45:00\n",
    "stab_on_time = 15 * 3600 + 45 * 60\n",
    "stab_off_readings = readings[(readings[:,0] > stab_off_time) & (readings[:,0] < stab_on_time)]\n",
    "stab_on_readings = readings[readings[:,0] > stab_on_time]\n",
    "plt.scatter(readings[:,0], readings[:,1], s=1)\n",
    "plt.xlabel('Time (s)')\n",
    "plt.ylabel('PD Current (nA)')\n",
    "plt.axvline(x=readings[0,0], color='r', linestyle='--')\n",
    "plt.axvline(x=stab_off_time, color='r', linestyle='--')\n",
    "plt.axvline(x=stab_on_time, color='r', linestyle='--')\n",
    "plt.text(readings[0,0] + 100, 1e-10, 'Stabilization On', rotation=90)\n",
    "plt.text(stab_off_time + 100, 1e-10, 'Stabilization Off', rotation=90)\n",
    "plt.text(stab_on_time + 100, 1e-10, 'Stabilization On', rotation=90)\n",
    "plt.show()\n",
    "# plt.scatter(readings[:,0], readings[:,2], s=1)\n",
    "# # Put vertical lines where stabilization turned off and back on\n",
    "# plt.axvline(x=readings[0,0], color='r', linestyle='--')\n",
    "# plt.axvline(x=stab_off_time, color='r', linestyle='--')\n",
    "# plt.axvline(x=stab_on_time, color='r', linestyle='--')\n",
    "# plt.text(readings[0,0] + 100, 0.5, 'Stabilization On', rotation=90)\n",
    "# plt.text(stab_off_time + 100, 0.5, 'Stabilization Off', rotation=90)\n",
    "# plt.text(stab_on_time + 100, 0.5, 'Stabilization On', rotation=90)\n",
    "# plt.xlabel('Time (s)')\n",
    "# plt.ylabel('Photodetector Reading (V)')\n",
    "# plt.show()"
   ]
  },
  {
   "cell_type": "code",
   "execution_count": 111,
   "metadata": {},
   "outputs": [
    {
     "name": "stdout",
     "output_type": "stream",
     "text": [
      "0.006704771584729078\n",
      "0.0076064704306755436\n"
     ]
    }
   ],
   "source": [
    "# Measure the stability of the light source when stabilization is turned off.\n",
    "# Only consider when the shutter was open, i.e. the PD readings was above 2e-10\n",
    "pd_readings_stab_off = stab_off_readings[stab_off_readings[:,1] > 0.2][:,1]\n",
    "print(pd_readings_stab_off.std() / pd_readings_stab_off.mean())\n",
    "pd_readings_stab_on = stab_on_readings[stab_on_readings[:,1] > 0.2][:,1]\n",
    "print(pd_readings_stab_on.std() / pd_readings_stab_on.mean())"
   ]
  },
  {
   "cell_type": "code",
   "execution_count": 135,
   "metadata": {},
   "outputs": [
    {
     "data": {
      "image/png": "[encoded data removed]",
      "text/plain": [
       "<Figure size 640x480 with 1 Axes>"
      ]
     },
     "metadata": {},
     "output_type": "display_data"
    },
    {
     "name": "stdout",
     "output_type": "stream",
     "text": [
      "0.0036685470718961196\n",
      "0.0052035431565996566\n"
     ]
    },
    {
     "ename": "",
     "evalue": "",
     "output_type": "error",
     "traceback": [
      "\u001b[1;31mThe Kernel crashed while executing code in the current cell or a previous cell. \n",
      "\u001b[1;31mPlease review the code in the cell(s) to identify a possible cause of the failure. \n",
      "\u001b[1;31mClick <a href='https://aka.ms/vscodeJupyterKernelCrash'>here</a> for more info. \n",
      "\u001b[1;31mView Jupyter <a href='command:jupyter.viewOutput'>log</a> for further details."
     ]
    }
   ],
   "source": [
    "# Set bounds to 0.2, 0.25\n",
    "stab_on_hist = plt.hist(pd_readings_stab_on, bins=150, label='Stabilization on', histtype='step', range=(0.2, 0.25))\n",
    "stab_off_hist = plt.hist(pd_readings_stab_off, bins=150, label='Stabilization off', histtype='step', range=(0.2, 0.25))\n",
    "# Fit Gaussians to the histograms\n",
    "# from scipy.optimize import curve_fit\n",
    "# def gaussian(x, a, b, c):\n",
    "#     return a * np.exp(-(x - b)**2 / (2 * c**2))\n",
    "# x_off = stab_off_hist[1][:-1]\n",
    "# y_off = stab_off_hist[0]\n",
    "# x_on = stab_on_hist[1][:-1]\n",
    "# y_on = stab_on_hist[0]\n",
    "# popt_off, _ = curve_fit(gaussian, x_off, y_off, p0=[1000, 0.22, 0.002])\n",
    "# popt_on, _ = curve_fit(gaussian, x_on, y_on, p0=[1000, 0.22, 0.002])\n",
    "# y_off = gaussian(x_off, *popt_off)\n",
    "# y_on = gaussian(x_on, *popt_on)\n",
    "# plt.plot(x_on, y_on, label='Fit to on')\n",
    "# plt.plot(x_off, y_off, label='Fit to off')\n",
    "# plt.text(0.2225, 350, f'Off: {popt_off[1]:.2e} ± {popt_off[2]:.2e}', color='blue')\n",
    "# plt.text(0.2225, 500, f'On: {popt_on[1]:.2e} ± {popt_on[2]:.2e}', color='orange')\n",
    "plt.xlabel('PD reading')\n",
    "plt.ylabel('Count')\n",
    "plt.legend()\n",
    "plt.show()\n",
    "print(popt_on[2] / popt_on[1])\n",
    "print(popt_off[2] / popt_off[1])"
   ]
  },
  {
   "cell_type": "code",
   "execution_count": null,
   "metadata": {},
   "outputs": [],
   "source": []
  }
 ],
 "metadata": {
  "kernelspec": {
   "display_name": "base",
   "language": "python",
   "name": "python3"
  },
  "language_info": {
   "codemirror_mode": {
    "name": "ipython",
    "version": 3
   },
   "file_extension": ".py",
   "mimetype": "text/x-python",
   "name": "python",
   "nbconvert_exporter": "python",
   "pygments_lexer": "ipython3",
   "version": "3.9.12"
  }
 },
 "nbformat": 4,
 "nbformat_minor": 2
}
