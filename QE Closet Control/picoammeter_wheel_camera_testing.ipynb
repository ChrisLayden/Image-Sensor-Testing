{
 "cells": [
  {
   "cell_type": "code",
   "id": "initial_id",
   "metadata": {
    "collapsed": true,
    "ExecuteTime": {
     "end_time": "2025-06-24T19:47:37.155902Z",
     "start_time": "2025-06-24T19:47:34.397973Z"
    }
   },
   "source": [
    "import sys, os\n",
    "import serial\n",
    "import time\n",
    "import numpy as np\n",
    "import matplotlib.pyplot as plt\n",
    "import pandas as pd\n",
    "import win32com.client\n",
    "from astropy.io import fits\n",
    "import threading\n",
    "import nbimporter\n",
    "from picoammeter_control import (\n",
    "    send_cmd,\n",
    "    query,\n",
    "    init_cmds\n",
    ")\n",
    "from camera_control_ascom import (\n",
    "    take_ramp,\n",
    "    camera_init\n",
    ")\n",
    "sys.path.insert(0, os.path.abspath('.'))\n",
    "sys.path.insert(0, os.path.abspath('filter_wheel_control'))\n",
    "from filter_wheel_control.wheel_controller import (\n",
    "    list_devices,\n",
    "    open_device,\n",
    "    get_position,\n",
    "    get_position_count,\n",
    "    set_position,\n",
    "    close_device\n",
    ")"
   ],
   "outputs": [],
   "execution_count": 1
  },
  {
   "metadata": {
    "ExecuteTime": {
     "end_time": "2025-06-24T19:47:40.089256Z",
     "start_time": "2025-06-24T19:47:40.057227Z"
    }
   },
   "cell_type": "code",
   "source": [
    "# init filter wheels\n",
    "print(\"Finding filter wheel devices...\")\n",
    "devices = list_devices()\n",
    "if not devices:\n",
    "    print(\"No filter wheel devices found.\")\n",
    "    sys.exit(1)\n",
    "\n",
    "print(\"Found devices:\")\n",
    "for idx, dev in enumerate(devices):\n",
    "    print(f\" [{idx}] {dev}\")\n",
    "\n",
    "\n",
    "# init filter wheels to empty pos\n",
    "for i in range(len(devices)):\n",
    "    handle = open_device(devices[i])\n",
    "    max_pos = get_position_count(handle)\n",
    "    print(max_pos)\n",
    "    if max_pos > 1:\n",
    "        set_position(handle, 1)\n",
    "        if max_pos == 6:\n",
    "            wheel6_port = i\n",
    "        elif max_pos == 12:\n",
    "            wheel12_port = i\n",
    "    close_device(handle)"
   ],
   "id": "fa60ad8f3a42b376",
   "outputs": [
    {
     "name": "stdout",
     "output_type": "stream",
     "text": [
      "Finding filter wheel devices...\n",
      "No filter wheel devices found.\n"
     ]
    },
    {
     "ename": "SystemExit",
     "evalue": "1",
     "output_type": "error",
     "traceback": [
      "An exception has occurred, use %tb to see the full traceback.\n",
      "\u001B[1;31mSystemExit\u001B[0m\u001B[1;31m:\u001B[0m 1\n"
     ]
    },
    {
     "name": "stderr",
     "output_type": "stream",
     "text": [
      "C:\\Users\\Jonah\\PycharmProjects\\Image-Sensor-Testing-JK\\venv\\interpreter\\lib\\site-packages\\IPython\\core\\interactiveshell.py:3558: UserWarning: To exit: use 'exit', 'quit', or Ctrl-D.\n",
      "  warn(\"To exit: use 'exit', 'quit', or Ctrl-D.\", stacklevel=1)\n"
     ]
    }
   ],
   "execution_count": 2
  },
  {
   "metadata": {
    "ExecuteTime": {
     "end_time": "2025-06-24T19:54:49.842951Z",
     "start_time": "2025-06-24T19:54:49.830269Z"
    }
   },
   "cell_type": "code",
   "source": "camera_init()",
   "id": "3a75b23ef792b11c",
   "outputs": [
    {
     "name": "stdout",
     "output_type": "stream",
     "text": [
      "No camera detected\n"
     ]
    }
   ],
   "execution_count": 6
  },
  {
   "metadata": {
    "ExecuteTime": {
     "end_time": "2025-06-24T20:48:52.162902Z",
     "start_time": "2025-06-24T20:18:49.074798Z"
    }
   },
   "cell_type": "code",
   "source": [
    "\"\"\" to calculate picoammeter stability \"\"\"\n",
    "# Open serial connection\n",
    "ser = serial.Serial(\n",
    "    port='COM5',         # Replace with your actual port\n",
    "    baudrate=9600,\n",
    "    bytesize=serial.EIGHTBITS,\n",
    "    parity=serial.PARITY_NONE,\n",
    "    stopbits=serial.STOPBITS_ONE,\n",
    "    timeout=2,\n",
    "    xonxoff=False,\n",
    "    rtscts=False,\n",
    "    dsrdtr=False\n",
    ")\n",
    "\n",
    "init_cmds(ser)\n",
    "\n",
    "# read_time = 30 # time in minutes to read for\n",
    "# num_of_reads = round(417*read_time)\n",
    "# readings = np.zeros(num_of_reads)\n",
    "# times = np.zeros(num_of_reads)\n",
    "#\n",
    "# # Trigger a read and fetch result\n",
    "# for i in range(num_of_reads):\n",
    "#     time.sleep(0.004)\n",
    "#     current = query(ser,'READ?')\n",
    "#     readings[i] = current\n",
    "#     times[i] = time.time()\n",
    "\n",
    "read_time       = 30           # minutes\n",
    "sample_interval = 0.004          # seconds between reads\n",
    "start_time = time.time()\n",
    "end_time   = start_time + read_time * 60\n",
    "readings_1 = []\n",
    "times_1    = []\n",
    "while time.time() < end_time:\n",
    "    time.sleep(sample_interval)\n",
    "    current = query(ser, 'READ?')\n",
    "    readings_1.append(current)\n",
    "    times_1.append(time.time())\n",
    "\n",
    "# Convert to NumPy arrays\n",
    "readings = np.array(readings_1, dtype=float)\n",
    "times    = np.array(times_1,    dtype=float)\n",
    "\n",
    "mean_readings = np.mean(readings)\n",
    "std_readings = np.std(readings)\n",
    "rel_std = std_readings/mean_readings\n",
    "print(f\"relative std: {std_readings}\")\n",
    "\n",
    "elapsed = (times - times[0])/60.0\n",
    "plt.plot(elapsed, readings)\n",
    "plt.xlabel(\"elapsed time (min)\")\n",
    "plt.ylabel(\"reading value\")\n",
    "plt.subplots_adjust(bottom=0.15)\n",
    "plt.figtext(0.25, 0.01,\n",
    "            f\"Relative STD = {rel_std:.4%}\",\n",
    "            ha=\"center\", fontsize=10, fontstyle='italic')\n",
    "plt.tight_layout()\n",
    "plt.show()\n",
    "\n",
    "import pandas as pd\n",
    "df = pd.DataFrame({\n",
    "    'time_min':       elapsed,\n",
    "    'reading':        readings,\n",
    "    'relative_std':   rel_std          # single value repeated\n",
    "})\n",
    "csv_path = f'picoam_readings_{read_time}_min.csv'\n",
    "df.to_csv(csv_path, index=False)\n",
    "print(\"saved to path\")\n",
    "\n",
    "ser.close()"
   ],
   "id": "1d63cb7dab4a4e73",
   "outputs": [
    {
     "name": "stdout",
     "output_type": "stream",
     "text": [
      "KEITHLEY INSTRUMENTS INC.,MODEL 6485,4070587,C01   Jun 23 2010 12:22:00/A02  /H\n",
      "relative std: 8.946725833630763e-11\n"
     ]
    },
    {
     "data": {
      "text/plain": [
       "<Figure size 640x480 with 1 Axes>"
      ],
      "image/png": "[encoded data removed]"
     },
     "metadata": {},
     "output_type": "display_data"
    },
    {
     "name": "stdout",
     "output_type": "stream",
     "text": [
      "saved to path\n"
     ]
    }
   ],
   "execution_count": 25
  },
  {
   "metadata": {},
   "cell_type": "code",
   "outputs": [],
   "execution_count": null,
   "source": "",
   "id": "1ca7b2aeb06b914b"
  },
  {
   "metadata": {},
   "cell_type": "code",
   "outputs": [],
   "execution_count": null,
   "source": [
    "def picoam_worker(ser, stop_event, readings_list, times_list, sample_interval=0.004):\n",
    "    \"\"\"\n",
    "    Continuously query the picoammeter until stop_event is set.\n",
    "    Appends readings and timestamps into the provided lists.\n",
    "    \"\"\"\n",
    "    while not stop_event.is_set():\n",
    "        time.sleep(sample_interval)\n",
    "        current = query(ser, 'READ?')\n",
    "        readings_list.append(current)\n",
    "        times_list.append(time.time())\n",
    "\n",
    "def camera_with_picoam(cam_name, exp_low, exp_high, num_exp=10, num_frames=1, img_shape=(1000,1000),\n",
    "              save_path=None, bit_depth=16, temp_setpoint=None):\n",
    "    stop_evt      = threading.Event()\n",
    "    picoam_readings = []   # plain Python lists so we can append indefinitely\n",
    "    picoam_times    = []\n",
    "\n",
    "    picoam_thread = threading.Thread(\n",
    "        target=picoam_worker,\n",
    "        args=(ser, stop_evt, picoam_readings, picoam_times),\n",
    "    )\n",
    "    picoam_thread.start()\n",
    "\n",
    "    exp_times, img_array, img_times = take_ramp(cam_name, exp_low, exp_high, num_exp, num_frames, img_shape, save_path, bit_depth, temp_setpoint)\n",
    "\n",
    "    stop_evt.set()\n",
    "    picoam_thread.join()\n",
    "    picoam_readings = np.array(picoam_readings)\n",
    "    picoam_times = np.array(picoam_times)\n",
    "    matched_readings = np.interp(img_times, picoam_times, picoam_readings)\n",
    "    exp_flat = np.repeat(exp_times, num_frames)\n",
    "    return exp_flat, matched_readings"
   ],
   "id": "6cdf64086f7f7e9c"
  },
  {
   "metadata": {},
   "cell_type": "code",
   "outputs": [],
   "execution_count": null,
   "source": [
    "# Open serial connection\n",
    "ser = serial.Serial(\n",
    "    port='COM5',         # Replace with your actual port\n",
    "    baudrate=9600,\n",
    "    bytesize=serial.EIGHTBITS,\n",
    "    parity=serial.PARITY_NONE,\n",
    "    stopbits=serial.STOPBITS_ONE,\n",
    "    timeout=2,\n",
    "    xonxoff=False,\n",
    "    rtscts=False,\n",
    "    dsrdtr=False\n",
    ")\n",
    "\n",
    "init_cmds(ser)\n",
    "\n",
    "cam_name = \"ASCOM.ASICamera2.Camera\"\n",
    "exp_flat, matched_readings = camera_with_picoam(\n",
    "        cam_name = cam_name,\n",
    "        exp_low = 0.001,\n",
    "        exp_high = 1.0,\n",
    "        num_exp= 3,\n",
    "        num_frames= 10,\n",
    "        img_shape= (1000,1000),\n",
    "        save_path= \"C:/Users/cplay/CMOS_test_imgs/062325\",\n",
    "        bit_depth=16\n",
    "    )\n",
    "\n",
    "plt.figure()\n",
    "plt.plot(exp_flat, matched_readings, 'o-')\n",
    "plt.xlabel('Exposure Time (s)')\n",
    "plt.ylabel('Picoammeter Current (A)')\n",
    "plt.title('Picoammeter Current at Each Exposure')\n",
    "plt.grid(True)\n",
    "plt.tight_layout()\n",
    "plt.show()\n",
    "\n",
    "df = pd.DataFrame({\n",
    "    'exposure_s': exp_flat,\n",
    "    'picoam_current_A': matched_readings\n",
    "})\n",
    "csv_file = \"camera_vs_pico.csv\"\n",
    "df.to_csv(csv_file, index=False)\n",
    "print(f\"Results saved to {csv_file}\")"
   ],
   "id": "bc2504313f07c9d4"
  }
 ],
 "metadata": {
  "kernelspec": {
   "display_name": "Python 3",
   "language": "python",
   "name": "python3"
  },
  "language_info": {
   "codemirror_mode": {
    "name": "ipython",
    "version": 2
   },
   "file_extension": ".py",
   "mimetype": "text/x-python",
   "name": "python",
   "nbconvert_exporter": "python",
   "pygments_lexer": "ipython2",
   "version": "2.7.6"
  }
 },
 "nbformat": 4,
 "nbformat_minor": 5
}
