{
 "cells": [
  {
   "cell_type": "code",
   "id": "initial_id",
   "metadata": {
    "collapsed": true,
    "ExecuteTime": {
     "end_time": "2025-06-24T14:50:01.646881Z",
     "start_time": "2025-06-24T14:49:59.543235Z"
    }
   },
   "source": [
    "import sys, os\n",
    "import serial\n",
    "import time\n",
    "import numpy as np\n",
    "import matplotlib.pyplot as plt\n",
    "from threading import Thread\n",
    "import nbimporter\n",
    "from picoammeter_control import (\n",
    "    send_cmd,\n",
    "    query,\n",
    "    init_cmds\n",
    ")\n",
    "sys.path.insert(0, os.path.abspath('.'))\n",
    "sys.path.insert(0, os.path.abspath('filter_wheel_control'))\n",
    "from filter_wheel_control.wheel_controller import (\n",
    "    list_devices,\n",
    "    open_device,\n",
    "    get_position,\n",
    "    get_position_count,\n",
    "    set_position,\n",
    "    close_device\n",
    ")"
   ],
   "outputs": [],
   "execution_count": 1
  },
  {
   "metadata": {
    "ExecuteTime": {
     "end_time": "2025-06-24T14:56:54.856129Z",
     "start_time": "2025-06-24T14:56:49.802801Z"
    }
   },
   "cell_type": "code",
   "source": [
    "print(\"Finding filter wheel devices...\")\n",
    "devices = list_devices()\n",
    "if not devices:\n",
    "    print(\"No filter wheel devices found.\")\n",
    "    sys.exit(1)\n",
    "\n",
    "print(\"Found devices:\")\n",
    "for idx, dev in enumerate(devices):\n",
    "    print(f\" [{idx}] {dev}\")\n",
    "\n",
    "\n",
    "# init filter wheels to empty pos\n",
    "for i in range(len(devices)):\n",
    "    handle = open_device(devices[i])\n",
    "    max_pos = get_position_count(handle)\n",
    "    print(max_pos)\n",
    "    if max_pos > 1:\n",
    "        set_position(handle, 1)\n",
    "        if max_pos == 6:\n",
    "            wheel6_port = i\n",
    "        elif max_pos == 12:\n",
    "            wheel12_port = i\n",
    "    close_device(handle)"
   ],
   "id": "fa60ad8f3a42b376",
   "outputs": [
    {
     "name": "stdout",
     "output_type": "stream",
     "text": [
      "Finding filter wheel devices...\n",
      "Found devices:\n",
      " [0] COM5\n",
      " [1] COM6\n",
      " [2] COM4\n",
      "-1\n",
      "6\n",
      "1\n",
      "12\n",
      "1\n"
     ]
    }
   ],
   "execution_count": 12
  },
  {
   "metadata": {
    "ExecuteTime": {
     "end_time": "2025-06-24T14:57:45.660648Z",
     "start_time": "2025-06-24T14:57:02.756277Z"
    }
   },
   "cell_type": "code",
   "source": [
    "# Open serial connection\n",
    "ser = serial.Serial(\n",
    "    port='COM5',         # Replace with your actual port\n",
    "    baudrate=9600,\n",
    "    bytesize=serial.EIGHTBITS,\n",
    "    parity=serial.PARITY_NONE,\n",
    "    stopbits=serial.STOPBITS_ONE,\n",
    "    timeout=2,\n",
    "    xonxoff=False,\n",
    "    rtscts=False,\n",
    "    dsrdtr=False\n",
    ")\n",
    "\n",
    "init_cmds(ser)\n",
    "\n",
    "read_time = .5 # time in minutes to read for\n",
    "num_of_reads = round(417*read_time)\n",
    "readings = np.zeros(num_of_reads)\n",
    "\n",
    "# Trigger a read and fetch result\n",
    "for i in range(num_of_reads):\n",
    "    time.sleep(0.004)\n",
    "    current = query(ser,'READ?')\n",
    "    readings[i] = current\n",
    "\n",
    "ser.close()"
   ],
   "id": "1d63cb7dab4a4e73",
   "outputs": [
    {
     "name": "stdout",
     "output_type": "stream",
     "text": [
      "\n",
      "switching filters\n",
      "finished switching\n"
     ]
    }
   ],
   "execution_count": 13
  },
  {
   "metadata": {
    "ExecuteTime": {
     "end_time": "2025-06-24T14:58:00.228451Z",
     "start_time": "2025-06-24T14:57:59.697451Z"
    }
   },
   "cell_type": "code",
   "source": [
    "plt.scatter(range(num_of_reads), readings)\n",
    "plt.show()\n",
    "# print(f\"mean: {np.mean(readings)}\")"
   ],
   "id": "9c4ccf13a93fcded",
   "outputs": [
    {
     "data": {
      "text/plain": [
       "<Figure size 640x480 with 1 Axes>"
      ],
      "image/png": "[encoded data removed]"
     },
     "metadata": {},
     "output_type": "display_data"
    }
   ],
   "execution_count": 14
  },
  {
   "metadata": {
    "ExecuteTime": {
     "end_time": "2025-06-24T17:05:51.862589Z",
     "start_time": "2025-06-24T17:05:41.813471Z"
    }
   },
   "cell_type": "code",
   "source": [
    "\"\"\"\n",
    "from threading import Thread\n",
    "import time\n",
    "\n",
    "def func1():\n",
    "    print('starting 1')\n",
    "    # print(msg)\n",
    "    time.sleep(10)\n",
    "    print('finished 1')\n",
    "def func2(msg):\n",
    "    print(\"starting 2\")\n",
    "    time.sleep(5)\n",
    "    print(\"halfway done 2\")\n",
    "    time.sleep(5)\n",
    "    print(\"finished 2\")\n",
    "\n",
    "if __name__ == '__main__':\n",
    "    Thread(target = func1).start()\n",
    "    Thread(target = func2('hi')).start()\n",
    "\"\"\""
   ],
   "id": "c04a98d8a1241c61",
   "outputs": [
    {
     "name": "stdout",
     "output_type": "stream",
     "text": [
      "starting 1\n",
      "starting 2\n",
      "halfway done 2\n",
      "finished 1finished 2\n",
      "\n"
     ]
    }
   ],
   "execution_count": 24
  }
 ],
 "metadata": {
  "kernelspec": {
   "display_name": "Python 3",
   "language": "python",
   "name": "python3"
  },
  "language_info": {
   "codemirror_mode": {
    "name": "ipython",
    "version": 2
   },
   "file_extension": ".py",
   "mimetype": "text/x-python",
   "name": "python",
   "nbconvert_exporter": "python",
   "pygments_lexer": "ipython2",
   "version": "2.7.6"
  }
 },
 "nbformat": 4,
 "nbformat_minor": 5
}
