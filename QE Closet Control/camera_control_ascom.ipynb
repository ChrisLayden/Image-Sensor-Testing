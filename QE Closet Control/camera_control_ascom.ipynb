{
 "cells": [
  {
   "cell_type": "code",
   "execution_count": 1,
   "id": "3436dbfc",
   "metadata": {},
   "outputs": [],
   "source": [
    "import win32com.client\n",
    "import time\n",
    "import numpy as np\n",
    "import matplotlib.pyplot as plt\n",
    "from astropy.io import fits"
   ]
  },
  {
   "cell_type": "code",
   "execution_count": 2,
   "id": "fb07197c",
   "metadata": {},
   "outputs": [
    {
     "name": "stdout",
     "output_type": "stream",
     "text": [
      "You selected: ASCOM.ASICamera2.Camera\n"
     ]
    }
   ],
   "source": [
    "\n",
    "# Launch ASCOM chooser\n",
    "chooser = win32com.client.Dispatch(\"ASCOM.Utilities.Chooser\")\n",
    "chooser.DeviceType = \"Camera\"  # Can be 'Telescope', 'Camera', 'FilterWheel', etc.\n",
    "\n",
    "# Pick ZWO ASCOM driver (GUI opens)\n",
    "camera_id = chooser.Choose(None)\n",
    "\n",
    "print(\"You selected:\", camera_id)"
   ]
  },
  {
   "cell_type": "code",
   "execution_count": 3,
   "id": "819641b0",
   "metadata": {},
   "outputs": [
    {
     "name": "stdout",
     "output_type": "stream",
     "text": [
      "Connected: True\n",
      "Image captured and camera disconnected.\n"
     ]
    }
   ],
   "source": [
    "camera = win32com.client.Dispatch(\"ASCOM.ASICamera2.Camera\")\n",
    "camera.Connected = True\n",
    "print(\"Connected:\", camera.Connected)\n",
    "cam_width = camera.CameraXSize\n",
    "cam_height = camera.CameraYSize\n",
    "\n",
    "# Setup camera for exposure\n",
    "camera.BinX = 1\n",
    "camera.BinY = 1\n",
    "camera.NumX = 1000\n",
    "camera.NumY = 1000\n",
    "camera.StartX = cam_width // 2 - 500\n",
    "camera.StartY = cam_height // 2 - 500\n",
    "\n",
    "# Start an exposure (e.g. 1 second, false = light frame)\n",
    "exposure_duration = 0.001\n",
    "camera.StartExposure(exposure_duration, False)\n",
    "\n",
    "# Wait for exposure to finish\n",
    "while not camera.ImageReady:\n",
    "    time.sleep(0.1)\n",
    "\n",
    "# Get image data\n",
    "image_data = np.array(camera.ImageArray)  # This will be a 2D array of pixel values\n",
    "\n",
    "# Done\n",
    "camera.Connected = False\n",
    "print(\"Image captured and camera disconnected.\")"
   ]
  },
  {
   "cell_type": "code",
   "execution_count": 4,
   "id": "397118db",
   "metadata": {},
   "outputs": [
    {
     "name": "stdout",
     "output_type": "stream",
     "text": [
      "[[65535 65535 65535 ... 65535 65535 65535]\n",
      " [65535 65535 65535 ... 65535 65535 65535]\n",
      " [65535 65535 65535 ... 65535 65535 65535]\n",
      " ...\n",
      " [65535 65535 65535 ... 65535 65535 65535]\n",
      " [65535 65535 65535 ... 65535 65535 65535]\n",
      " [65535 65535 65535 ... 65535 65535 65535]]\n"
     ]
    }
   ],
   "source": [
    "print(image_data)"
   ]
  },
  {
   "cell_type": "code",
   "execution_count": null,
   "id": "5321292e",
   "metadata": {},
   "outputs": [],
   "source": []
  }
 ],
 "metadata": {
  "kernelspec": {
   "display_name": "sensor-testing",
   "language": "python",
   "name": "python3"
  },
  "language_info": {
   "codemirror_mode": {
    "name": "ipython",
    "version": 3
   },
   "file_extension": ".py",
   "mimetype": "text/x-python",
   "name": "python",
   "nbconvert_exporter": "python",
   "pygments_lexer": "ipython3",
   "version": "3.13.5"
  }
 },
 "nbformat": 4,
 "nbformat_minor": 5
}
