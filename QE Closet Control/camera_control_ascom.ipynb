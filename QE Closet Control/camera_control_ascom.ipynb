{
 "cells": [
  {
   "cell_type": "code",
   "id": "3436dbfc",
   "metadata": {
    "ExecuteTime": {
     "end_time": "2025-07-10T13:06:31.882301Z",
     "start_time": "2025-07-10T13:06:30.452121Z"
    }
   },
   "source": [
    "import win32com.client\n",
    "import time\n",
    "import numpy as np\n",
    "import matplotlib.pyplot as plt\n",
    "from astropy.io import fits"
   ],
   "outputs": [],
   "execution_count": 1
  },
  {
   "cell_type": "code",
   "id": "fb07197c",
   "metadata": {
    "ExecuteTime": {
     "end_time": "2025-07-10T13:06:33.666459Z",
     "start_time": "2025-07-10T13:06:33.653618Z"
    }
   },
   "source": [
    "def camera_init():\n",
    "    try:\n",
    "        # Launch ASCOM chooser\n",
    "        chooser = win32com.client.Dispatch(\"ASCOM.Utilities.Chooser\")\n",
    "        chooser.DeviceType = \"Camera\"  # Can be 'Telescope', 'Camera', 'FilterWheel', etc.\n",
    "\n",
    "        # Pick ZWO ASCOM driver (GUI opens)\n",
    "        camera_id = chooser.Choose(None)\n",
    "        print(\"You selected:\", camera_id)\n",
    "        return camera_id\n",
    "    except:\n",
    "        print(\"No camera detected\")"
   ],
   "outputs": [],
   "execution_count": 2
  },
  {
   "metadata": {
    "ExecuteTime": {
     "end_time": "2025-07-10T13:09:09.568618Z",
     "start_time": "2025-07-10T13:09:03.716020Z"
    }
   },
   "cell_type": "code",
   "source": "camera_init()",
   "id": "aa7296cca0c00cc2",
   "outputs": [
    {
     "name": "stdout",
     "output_type": "stream",
     "text": [
      "You selected: ASCOM.QHYCCD_CAM2.Camera\n"
     ]
    },
    {
     "data": {
      "text/plain": [
       "'ASCOM.QHYCCD_CAM2.Camera'"
      ]
     },
     "execution_count": 10,
     "metadata": {},
     "output_type": "execute_result"
    }
   ],
   "execution_count": 10
  },
  {
   "cell_type": "code",
   "id": "8601b119",
   "metadata": {
    "ExecuteTime": {
     "end_time": "2025-07-10T13:09:12.358921Z",
     "start_time": "2025-07-10T13:09:12.347023Z"
    }
   },
   "source": [
    "def take_ramp(cam_name, exp_low, exp_high, num_exp=10, num_frames=1, img_shape=(1000,1000),\n",
    "              save_path=None, bit_depth=16, temp_setpoint=None, offset=None):\n",
    "    exp_times = np.logspace(np.log10(exp_low), np.log10(exp_high), num_exp)\n",
    "    if bit_depth in [10, 12, 14, 16]:\n",
    "        img_array = np.zeros((num_exp, num_frames, *img_shape), dtype=np.uint16)\n",
    "    elif bit_depth == 8:\n",
    "        img_array = np.zeros((num_exp, num_frames, *img_shape), dtype=np.uint8)\n",
    "    else:\n",
    "        raise ValueError(\"Unsupported bit depth. Choose from [8, 10, 12, 14, 16].\")\n",
    "    img_times = np.zeros((num_exp, num_frames))\n",
    "    # Connect to camera\n",
    "    camera = win32com.client.Dispatch(cam_name)\n",
    "    camera.Connected = True\n",
    "    print(\"connected\")\n",
    "    # print(camera.ExposureMin, camera.ExposureResolution)\n",
    "    # Set subarray to take\n",
    "    cam_width = camera.CameraXSize\n",
    "    cam_height = camera.CameraYSize\n",
    "\n",
    "    # Add loop to set camera temperature and wait for it to stabilize\n",
    "    cam_temp = camera.CCDTemperature\n",
    "    print(f\"Camera connected: {cam_name}, Size: {cam_width}x{cam_height}, Temperature: {cam_temp:.2f}C\")\n",
    "    # Setup camera for exposure\n",
    "    if offset: camera.Offset = offset\n",
    "    # print(f\"camera offset: {camera.Offset}\")\n",
    "    camera.BinX = 1\n",
    "    camera.BinY = 1\n",
    "    camera.NumX = img_shape[1]\n",
    "    camera.NumY = img_shape[0]\n",
    "    camera.StartX = max(0, (cam_width  - img_shape[1])//2)\n",
    "    camera.StartY = max(0, (cam_height - img_shape[0])//2)\n",
    "\n",
    "    for i, exp_time in enumerate(exp_times):\n",
    "        print(f\"Taking frames at {exp_time:.8f} seconds (exposure time {i+1}/{num_exp})\")\n",
    "        for j in range(num_frames):\n",
    "            print(\"taking frame\")\n",
    "            # print(\"exp_time: \", exp_time)\n",
    "            camera.StartExposure(exp_time, False)\n",
    "            print(\"took frame\")\n",
    "            while not camera.ImageReady:\n",
    "                time.sleep(0.01)\n",
    "            print(\"done waiting\")\n",
    "            img = camera.ImageArray\n",
    "            img_array[i, j] = np.array(img)\n",
    "            img_times[i, j] = time.time()\n",
    "\n",
    "        # saves images to 'save_path'\n",
    "        if save_path is not None:\n",
    "            img_array3d = img_array[i, :, :, :]\n",
    "            hdu = fits.PrimaryHDU(img_array3d)\n",
    "            hdu = populate_header(camera, hdu, exp_time)\n",
    "            hdul = fits.HDUList([hdu])\n",
    "            hdul.writeto(f\"{save_path}/image_{i+1}.fits\", overwrite=True)\n",
    "    print(f\"exp res: {camera.ExposureResolution:.5f} seconds\")\n",
    "\n",
    "    camera.Connected = False\n",
    "    return  exp_times, img_array, img_times.reshape(-1)"
   ],
   "outputs": [],
   "execution_count": 11
  },
  {
   "metadata": {
    "ExecuteTime": {
     "end_time": "2025-07-10T13:06:54.425236Z",
     "start_time": "2025-07-10T13:06:54.398690Z"
    }
   },
   "cell_type": "code",
   "source": [
    "def populate_header(camera, hdu, exp_time):\n",
    "    hdr = hdu.header\n",
    "    hdr['DATE'] = time.strftime('%Y-%m-%dT%H:%M:%S', time.gmtime())\n",
    "    hdr.comments['DATE'] = 'File creation date'\n",
    "    try: hdr['DATE-OBS'] = camera.LastExposureStartTime\n",
    "    except:\n",
    "        hdr['DATE-OBS'] = time.strftime('%Y-%m-%dT%H:%M:%S', time.gmtime())\n",
    "    hdr.comments['DATE-OBS'] = 'Date of data acquisition'\n",
    "    try: hdr['EXPTIME'] = camera.LastExposureDuration\n",
    "    except:\n",
    "        try: hdr['EXPTIME'] = (exp_time//camera.ExposureResolution)*camera.ExposureResolution\n",
    "        except:\n",
    "            try: hdr['EXPTIME'] = exp_time[0]\n",
    "            except:\n",
    "                try: hdr['EXPTIME'] = exp_time\n",
    "                except: pass\n",
    "    hdr.comments['EXPTIME'] = 'Exposure time in s'\n",
    "    hdr['TEMP'] = camera.CCDTemperature\n",
    "    hdr.comments['TEMP'] = 'Sensor temperature (in deg C)'\n",
    "    hdr['MODE'] = camera.ReadoutModes[camera.ReadoutMode]\n",
    "    hdr['GAIN'] = camera.Gain\n",
    "    hdr.comments['GAIN'] = 'Camera gain setting if applicable'\n",
    "    hdr['SENSNAME'] = camera.Name\n",
    "    return hdu\n"
   ],
   "id": "6bd177f855da50a",
   "outputs": [],
   "execution_count": 5
  },
  {
   "cell_type": "code",
   "id": "819641b0",
   "metadata": {},
   "source": [
    "# camera = win32com.client.Dispatch(\"ASCOM.ASICamera2.Camera\")\n",
    "# camera.Connected = True\n",
    "# print(\"Connected:\", camera.Connected)\n",
    "# cam_width = camera.CameraXSize\n",
    "# cam_height = camera.CameraYSize\n",
    "\n",
    "# # Setup camera for exposure\n",
    "# camera.BinX = 1\n",
    "# camera.BinY = 1\n",
    "# camera.NumX = 1000\n",
    "# camera.NumY = 1000\n",
    "# camera.StartX = cam_width // 2 - 500\n",
    "# camera.StartY = cam_height // 2 - 500\n",
    "\n",
    "# # Start an exposure (e.g. 1 second, false = light frame)\n",
    "# exposure_duration = 0.001\n",
    "# camera.StartExposure(exposure_duration, False)\n",
    "\n",
    "# # Wait for exposure to finish\n",
    "# while not camera.ImageReady:\n",
    "#     time.sleep(0.1)\n",
    "\n",
    "# # Get image data\n",
    "# image_data = np.array(camera.ImageArray)  # This will be a 2D array of pixel values\n",
    "\n",
    "# # Done\n",
    "# camera.Connected = False\n",
    "# print(\"Image captured and camera disconnected.\")"
   ],
   "outputs": [],
   "execution_count": null
  },
  {
   "cell_type": "code",
   "id": "397118db",
   "metadata": {
    "ExecuteTime": {
     "end_time": "2025-07-10T13:09:14.636570Z",
     "start_time": "2025-07-10T13:09:14.552797Z"
    }
   },
   "source": [
    "cam_name = \"ASCOM.QHYCCD_CAM2.Camera\"\n",
    "exp_times, img_array, img_times = take_ramp(cam_name, exp_low=0.01, exp_high=1.0, num_exp=1, num_frames=1, img_shape=(1000, 1000), save_path=\"C:/Users/Jonah/fits_imgs\", bit_depth=12)"
   ],
   "outputs": [
    {
     "name": "stdout",
     "output_type": "stream",
     "text": [
      "connected\n",
      "Camera connected: ASCOM.QHYCCD_CAM2.Camera, Size: 0x0, Temperature: 25.00C\n",
      "Taking frames at 0.01000000 seconds (exposure time 1/1)\n",
      "taking frame\n"
     ]
    },
    {
     "ename": "com_error",
     "evalue": "(-2147352567, 'Exception occurred.', (0, 'ASCOM.QHYCCD_CAM2.Camera', \"StartExposure NumX set - '1000' is an invalid value. The valid range is: 1 to 0.\", None, 0, -2147220479), None)",
     "output_type": "error",
     "traceback": [
      "\u001B[1;31m---------------------------------------------------------------------------\u001B[0m",
      "\u001B[1;31mcom_error\u001B[0m                                 Traceback (most recent call last)",
      "Cell \u001B[1;32mIn[12], line 2\u001B[0m\n\u001B[0;32m      1\u001B[0m cam_name \u001B[38;5;241m=\u001B[39m \u001B[38;5;124m\"\u001B[39m\u001B[38;5;124mASCOM.QHYCCD_CAM2.Camera\u001B[39m\u001B[38;5;124m\"\u001B[39m\n\u001B[1;32m----> 2\u001B[0m exp_times, img_array, img_times \u001B[38;5;241m=\u001B[39m \u001B[43mtake_ramp\u001B[49m\u001B[43m(\u001B[49m\u001B[43mcam_name\u001B[49m\u001B[43m,\u001B[49m\u001B[43m \u001B[49m\u001B[43mexp_low\u001B[49m\u001B[38;5;241;43m=\u001B[39;49m\u001B[38;5;241;43m0.01\u001B[39;49m\u001B[43m,\u001B[49m\u001B[43m \u001B[49m\u001B[43mexp_high\u001B[49m\u001B[38;5;241;43m=\u001B[39;49m\u001B[38;5;241;43m1.0\u001B[39;49m\u001B[43m,\u001B[49m\u001B[43m \u001B[49m\u001B[43mnum_exp\u001B[49m\u001B[38;5;241;43m=\u001B[39;49m\u001B[38;5;241;43m1\u001B[39;49m\u001B[43m,\u001B[49m\u001B[43m \u001B[49m\u001B[43mnum_frames\u001B[49m\u001B[38;5;241;43m=\u001B[39;49m\u001B[38;5;241;43m1\u001B[39;49m\u001B[43m,\u001B[49m\u001B[43m \u001B[49m\u001B[43mimg_shape\u001B[49m\u001B[38;5;241;43m=\u001B[39;49m\u001B[43m(\u001B[49m\u001B[38;5;241;43m1000\u001B[39;49m\u001B[43m,\u001B[49m\u001B[43m \u001B[49m\u001B[38;5;241;43m1000\u001B[39;49m\u001B[43m)\u001B[49m\u001B[43m,\u001B[49m\u001B[43m \u001B[49m\u001B[43msave_path\u001B[49m\u001B[38;5;241;43m=\u001B[39;49m\u001B[38;5;124;43m\"\u001B[39;49m\u001B[38;5;124;43mC:/Users/Jonah/fits_imgs\u001B[39;49m\u001B[38;5;124;43m\"\u001B[39;49m\u001B[43m,\u001B[49m\u001B[43m \u001B[49m\u001B[43mbit_depth\u001B[49m\u001B[38;5;241;43m=\u001B[39;49m\u001B[38;5;241;43m12\u001B[39;49m\u001B[43m)\u001B[49m\n",
      "Cell \u001B[1;32mIn[11], line 38\u001B[0m, in \u001B[0;36mtake_ramp\u001B[1;34m(cam_name, exp_low, exp_high, num_exp, num_frames, img_shape, save_path, bit_depth, temp_setpoint, offset)\u001B[0m\n\u001B[0;32m     36\u001B[0m \u001B[38;5;28mprint\u001B[39m(\u001B[38;5;124m\"\u001B[39m\u001B[38;5;124mtaking frame\u001B[39m\u001B[38;5;124m\"\u001B[39m)\n\u001B[0;32m     37\u001B[0m \u001B[38;5;66;03m# print(\"exp_time: \", exp_time)\u001B[39;00m\n\u001B[1;32m---> 38\u001B[0m \u001B[43mcamera\u001B[49m\u001B[38;5;241;43m.\u001B[39;49m\u001B[43mStartExposure\u001B[49m\u001B[43m(\u001B[49m\u001B[43mexp_time\u001B[49m\u001B[43m,\u001B[49m\u001B[43m \u001B[49m\u001B[38;5;28;43;01mFalse\u001B[39;49;00m\u001B[43m)\u001B[49m\n\u001B[0;32m     39\u001B[0m \u001B[38;5;28mprint\u001B[39m(\u001B[38;5;124m\"\u001B[39m\u001B[38;5;124mtook frame\u001B[39m\u001B[38;5;124m\"\u001B[39m)\n\u001B[0;32m     40\u001B[0m \u001B[38;5;28;01mwhile\u001B[39;00m \u001B[38;5;129;01mnot\u001B[39;00m camera\u001B[38;5;241m.\u001B[39mImageReady:\n",
      "File \u001B[1;32m~\\AppData\\Local\\Temp\\gen_py\\3.9\\5849AF17-3590-42FF-900E-7544D45C9825x0x6x0\\ICameraV3.py:64\u001B[0m, in \u001B[0;36mICameraV3.StartExposure\u001B[1;34m(self, Duration, Light)\u001B[0m\n\u001B[0;32m     63\u001B[0m \u001B[38;5;28;01mdef\u001B[39;00m\u001B[38;5;250m \u001B[39m\u001B[38;5;21mStartExposure\u001B[39m(\u001B[38;5;28mself\u001B[39m, Duration\u001B[38;5;241m=\u001B[39mdefaultNamedNotOptArg, Light\u001B[38;5;241m=\u001B[39mdefaultNamedNotOptArg):\n\u001B[1;32m---> 64\u001B[0m \t\u001B[38;5;28;01mreturn\u001B[39;00m \u001B[38;5;28;43mself\u001B[39;49m\u001B[38;5;241;43m.\u001B[39;49m\u001B[43m_oleobj_\u001B[49m\u001B[38;5;241;43m.\u001B[39;49m\u001B[43mInvokeTypes\u001B[49m\u001B[43m(\u001B[49m\u001B[38;5;241;43m1610743862\u001B[39;49m\u001B[43m,\u001B[49m\u001B[43m \u001B[49m\u001B[43mLCID\u001B[49m\u001B[43m,\u001B[49m\u001B[43m \u001B[49m\u001B[38;5;241;43m1\u001B[39;49m\u001B[43m,\u001B[49m\u001B[43m \u001B[49m\u001B[43m(\u001B[49m\u001B[38;5;241;43m24\u001B[39;49m\u001B[43m,\u001B[49m\u001B[43m \u001B[49m\u001B[38;5;241;43m0\u001B[39;49m\u001B[43m)\u001B[49m\u001B[43m,\u001B[49m\u001B[43m \u001B[49m\u001B[43m(\u001B[49m\u001B[43m(\u001B[49m\u001B[38;5;241;43m5\u001B[39;49m\u001B[43m,\u001B[49m\u001B[43m \u001B[49m\u001B[38;5;241;43m1\u001B[39;49m\u001B[43m)\u001B[49m\u001B[43m,\u001B[49m\u001B[43m \u001B[49m\u001B[43m(\u001B[49m\u001B[38;5;241;43m11\u001B[39;49m\u001B[43m,\u001B[49m\u001B[43m \u001B[49m\u001B[38;5;241;43m1\u001B[39;49m\u001B[43m)\u001B[49m\u001B[43m)\u001B[49m\u001B[43m,\u001B[49m\u001B[43mDuration\u001B[49m\n\u001B[0;32m     65\u001B[0m \u001B[43m\t\t\u001B[49m\u001B[43m,\u001B[49m\u001B[43m \u001B[49m\u001B[43mLight\u001B[49m\u001B[43m)\u001B[49m\n",
      "\u001B[1;31mcom_error\u001B[0m: (-2147352567, 'Exception occurred.', (0, 'ASCOM.QHYCCD_CAM2.Camera', \"StartExposure NumX set - '1000' is an invalid value. The valid range is: 1 to 0.\", None, 0, -2147220479), None)"
     ]
    }
   ],
   "execution_count": 12
  },
  {
   "cell_type": "code",
   "id": "5321292e",
   "metadata": {},
   "source": [
    "mean_vals = np.mean(img_array, axis=(2, 3))  # Mean across frames and image dimensions\n",
    "plt.plot(exp_times, mean_vals, marker='o')\n",
    "plt.show()"
   ],
   "outputs": [],
   "execution_count": null
  }
 ],
 "metadata": {
  "kernelspec": {
   "display_name": "sensor-testing",
   "language": "python",
   "name": "python3"
  },
  "language_info": {
   "codemirror_mode": {
    "name": "ipython",
    "version": 3
   },
   "file_extension": ".py",
   "mimetype": "text/x-python",
   "name": "python",
   "nbconvert_exporter": "python",
   "pygments_lexer": "ipython3",
   "version": "3.13.5"
  }
 },
 "nbformat": 4,
 "nbformat_minor": 5
}
