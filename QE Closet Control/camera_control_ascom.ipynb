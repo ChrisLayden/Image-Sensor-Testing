{
 "cells": [
  {
   "cell_type": "code",
   "id": "3436dbfc",
   "metadata": {
    "ExecuteTime": {
     "end_time": "2025-06-27T15:19:10.704745Z",
     "start_time": "2025-06-27T15:19:10.669929Z"
    }
   },
   "source": [
    "import win32com.client\n",
    "import time\n",
    "import numpy as np\n",
    "import matplotlib.pyplot as plt\n",
    "from astropy.io import fits"
   ],
   "outputs": [],
   "execution_count": 76
  },
  {
   "cell_type": "code",
   "id": "fb07197c",
   "metadata": {
    "ExecuteTime": {
     "end_time": "2025-06-27T15:19:12.012168Z",
     "start_time": "2025-06-27T15:19:11.983548Z"
    }
   },
   "source": [
    "def camera_init():\n",
    "    try:\n",
    "        # Launch ASCOM chooser\n",
    "        chooser = win32com.client.Dispatch(\"ASCOM.Utilities.Chooser\")\n",
    "        chooser.DeviceType = \"Camera\"  # Can be 'Telescope', 'Camera', 'FilterWheel', etc.\n",
    "\n",
    "        # Pick ZWO ASCOM driver (GUI opens)\n",
    "        camera_id = chooser.Choose(None)\n",
    "\n",
    "        print(\"You selected:\", camera_id)\n",
    "        return camera_id\n",
    "    except:\n",
    "        print(\"No camera detected\")\n",
    "\n"
   ],
   "outputs": [],
   "execution_count": 77
  },
  {
   "metadata": {
    "ExecuteTime": {
     "end_time": "2025-06-25T13:23:32.218224Z",
     "start_time": "2025-06-25T13:22:57.995408Z"
    }
   },
   "cell_type": "code",
   "source": "camera_init()",
   "id": "aa7296cca0c00cc2",
   "outputs": [
    {
     "name": "stdout",
     "output_type": "stream",
     "text": [
      "You selected: ASCOM.ASICamera2.Camera\n"
     ]
    }
   ],
   "execution_count": 21
  },
  {
   "cell_type": "code",
   "id": "8601b119",
   "metadata": {
    "ExecuteTime": {
     "end_time": "2025-06-26T14:42:23.899674Z",
     "start_time": "2025-06-26T14:42:23.871932Z"
    }
   },
   "source": [
    "def take_ramp(cam_name, exp_low, exp_high, num_exp=10, num_frames=1, img_shape=(1000,1000),\n",
    "              save_path=None, bit_depth=16, temp_setpoint=None):\n",
    "    '''Record images with logarithmically spaced exposure times\n",
    "    ---------------\n",
    "    Parameters:\n",
    "    cam_name : object\n",
    "        Name of the camera object, typically obtained from ASCOM chooser.\n",
    "    exp_low : float\n",
    "        Minimum exposure time in seconds.\n",
    "    exp_high : float\n",
    "        Maximum exposure time in seconds.\n",
    "    num_exp : int\n",
    "        Number of exposure times to record.\n",
    "    num_frames : int\n",
    "        Number of frames to record at each exposure time.\n",
    "    img_shape : tuple\n",
    "        Shape of the images to be recorded (height, width).\n",
    "    save_path : str\n",
    "        Path to save the recorded images. If None, images are not saved.\n",
    "    ---------------\n",
    "    Returns:\n",
    "    img_array : numpy.ndarray\n",
    "        Array of recorded images with shape (num_exp, num_frames, height, width).\n",
    "    '''\n",
    "    exp_times = np.logspace(np.log10(exp_low), np.log10(exp_high), num_exp)\n",
    "    if bit_depth in [10, 12, 14, 16]:\n",
    "        img_array = np.zeros((num_exp, num_frames, *img_shape), dtype=np.uint16)\n",
    "    elif bit_depth == 8:\n",
    "        img_array = np.zeros((num_exp, num_frames, *img_shape), dtype=np.uint8)\n",
    "    else:\n",
    "        raise ValueError(\"Unsupported bit depth. Choose from [8, 10, 12, 14, 16].\")\n",
    "    img_times = np.zeros((num_exp, num_frames))\n",
    "    # Connect to camera\n",
    "    camera = win32com.client.Dispatch(cam_name)\n",
    "    camera.Connected = True\n",
    "    # print(camera.ExposureMin, camera.ExposureResolution)\n",
    "    # Set subarray to take\n",
    "    cam_width = camera.CameraXSize\n",
    "    cam_height = camera.CameraYSize\n",
    "    # Add loop to set camera temperature and wait for it to stabilize\n",
    "    cam_temp = camera.CCDTemperature\n",
    "    print(f\"Camera connected: {cam_name}, Size: {cam_width}x{cam_height}, Temperature: {cam_temp:.2f}C\")\n",
    "    # Setup camera for exposure\n",
    "    camera.Offset = 0\n",
    "    print(f\"camera offset: {camera.Offset}\")\n",
    "    camera.BinX = 1\n",
    "    camera.BinY = 1\n",
    "    camera.NumX = img_shape[1]\n",
    "    camera.NumY = img_shape[0]\n",
    "    camera.StartX = (cam_width - img_shape[1]) // 2\n",
    "    camera.StartY = (cam_height - img_shape[0]) // 2\n",
    "    for i, exp_time in enumerate(exp_times):\n",
    "        print(f\"Taking frames at {exp_time:.8f} seconds (exposure time {i+1}/{num_exp})\")\n",
    "        for j in range(num_frames):\n",
    "            # print(exp_time)\n",
    "            camera.StartExposure(exp_time, False)\n",
    "            # ZZZ need to figure out how to get actual exposure time from camera\n",
    "            # (will get rounded slightly by camera firmware)\n",
    "            while not camera.ImageReady:\n",
    "                time.sleep(0.1)\n",
    "            img = camera.ImageArray\n",
    "            img_array[i, j] = np.array(img)\n",
    "            img_times[i, j] = time.time()\n",
    "    \n",
    "        # saves images to 'save_path'\n",
    "        if save_path is not None:\n",
    "            img_array3d = img_array[0, :, :, :]\n",
    "            hdu = fits.PrimaryHDU(img_array3d)\n",
    "            hdr = hdu.header\n",
    "            hdr['DATE'] = time.strftime('%Y-%m-%dT%H:%M:%S', time.gmtime())\n",
    "            hdr.comments['DATE'] = 'File creation date'\n",
    "            hdr['DATE-OBS'] = camera.LastExposureStartTime\n",
    "            hdr.comments['DATE-OBS'] = 'Date of data acquisition'\n",
    "            # hdr['EXPTIME'] = camera.LastExposureDuration\n",
    "            hdr['EXPTIME'] = round(exp_time/camera.ExposureResolution)*camera.ExposureResolution\n",
    "            hdr.comments['EXPTIME'] = 'Exposure time in s'\n",
    "            hdr['TEMP'] = camera.CCDTemperature\n",
    "            hdr.comments['TEMP'] = 'Sensor temperature (in deg C)'\n",
    "            hdr['MODE'] = camera.ReadoutModes[camera.ReadoutMode]\n",
    "            hdr['GAIN'] = camera.Gain\n",
    "            hdr.comments['GAIN'] = 'Camera gain setting if applicable'\n",
    "            hdr['SENSNAME'] = camera.Name\n",
    "            hdul = fits.HDUList([hdu])\n",
    "            hdul.writeto(f\"{save_path}/image_{i+1}.fits\", overwrite=True)\n",
    "    print(f\"exp res: {camera.ExposureResolution:.8f} seconds\")\n",
    "\n",
    "    camera.Connected = False\n",
    "    return  exp_times, img_array, img_times.reshape(-1)"
   ],
   "outputs": [],
   "execution_count": 75
  },
  {
   "cell_type": "code",
   "id": "819641b0",
   "metadata": {
    "ExecuteTime": {
     "end_time": "2025-06-24T18:36:40.954582Z",
     "start_time": "2025-06-24T18:36:40.935639Z"
    }
   },
   "source": [
    "# camera = win32com.client.Dispatch(\"ASCOM.ASICamera2.Camera\")\n",
    "# camera.Connected = True\n",
    "# print(\"Connected:\", camera.Connected)\n",
    "# cam_width = camera.CameraXSize\n",
    "# cam_height = camera.CameraYSize\n",
    "\n",
    "# # Setup camera for exposure\n",
    "# camera.BinX = 1\n",
    "# camera.BinY = 1\n",
    "# camera.NumX = 1000\n",
    "# camera.NumY = 1000\n",
    "# camera.StartX = cam_width // 2 - 500\n",
    "# camera.StartY = cam_height // 2 - 500\n",
    "\n",
    "# # Start an exposure (e.g. 1 second, false = light frame)\n",
    "# exposure_duration = 0.001\n",
    "# camera.StartExposure(exposure_duration, False)\n",
    "\n",
    "# # Wait for exposure to finish\n",
    "# while not camera.ImageReady:\n",
    "#     time.sleep(0.1)\n",
    "\n",
    "# # Get image data\n",
    "# image_data = np.array(camera.ImageArray)  # This will be a 2D array of pixel values\n",
    "\n",
    "# # Done\n",
    "# camera.Connected = False\n",
    "# print(\"Image captured and camera disconnected.\")"
   ],
   "outputs": [],
   "execution_count": 1
  },
  {
   "cell_type": "code",
   "id": "397118db",
   "metadata": {
    "ExecuteTime": {
     "end_time": "2025-06-26T14:29:17.793580Z",
     "start_time": "2025-06-26T14:29:14.274205Z"
    }
   },
   "source": [
    "cam_name = \"ASCOM.ASICamera2.Camera\"\n",
    "exp_times, img_array, img_times = take_ramp(cam_name, exp_low=0.00025, exp_high=.00025, num_exp=1, num_frames=5, img_shape=(1000, 1000), save_path=\"C:/Users/Jonah/fits_imgs\", bit_depth=16)"
   ],
   "outputs": [
    {
     "name": "stdout",
     "output_type": "stream",
     "text": [
      "Camera connected: ASCOM.ASICamera2.Camera, Size: 6248x4176, Temperature: 28.50C\n",
      "Taking frames at 0.00025000 seconds (exposure time 1/1)\n",
      "exp res: 0.00000100 seconds\n"
     ]
    }
   ],
   "execution_count": 71
  },
  {
   "cell_type": "code",
   "id": "5321292e",
   "metadata": {
    "ExecuteTime": {
     "end_time": "2025-06-26T14:29:22.081733Z",
     "start_time": "2025-06-26T14:29:21.937150Z"
    }
   },
   "source": [
    "mean_vals = np.mean(img_array, axis=(2, 3))  # Mean across frames and image dimensions\n",
    "plt.plot(exp_times, mean_vals, marker='o')\n",
    "plt.show()"
   ],
   "outputs": [
    {
     "data": {
      "text/plain": [
       "<Figure size 640x480 with 1 Axes>"
      ],
      "image/png": "[encoded data removed]"
     },
     "metadata": {},
     "output_type": "display_data"
    }
   ],
   "execution_count": 72
  }
 ],
 "metadata": {
  "kernelspec": {
   "display_name": "sensor-testing",
   "language": "python",
   "name": "python3"
  },
  "language_info": {
   "codemirror_mode": {
    "name": "ipython",
    "version": 3
   },
   "file_extension": ".py",
   "mimetype": "text/x-python",
   "name": "python",
   "nbconvert_exporter": "python",
   "pygments_lexer": "ipython3",
   "version": "3.13.5"
  }
 },
 "nbformat": 4,
 "nbformat_minor": 5
}
