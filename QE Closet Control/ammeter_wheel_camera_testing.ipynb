{
 "cells": [
  {
   "cell_type": "code",
   "id": "initial_id",
   "metadata": {
    "collapsed": true,
    "ExecuteTime": {
     "end_time": "2025-06-23T16:04:04.465216Z",
     "start_time": "2025-06-23T16:04:04.442841Z"
    }
   },
   "source": [
    "import sys, os\n",
    "import serial\n",
    "import time\n",
    "import numpy as np\n",
    "import matplotlib.pyplot as plt\n",
    "# import nbimporter\n",
    "from picoammeter_control import (\n",
    "    send_cmd,\n",
    "    query,\n",
    "    init_cmds\n",
    ")\n",
    "sys.path.insert(0, os.path.abspath('.'))\n",
    "sys.path.insert(0, os.path.abspath('filter_wheel_control'))\n",
    "from filter_wheel_control.wheel_controller import (\n",
    "    list_devices,\n",
    "    open_device,\n",
    "    get_position,\n",
    "    get_position_count,\n",
    "    set_position,\n",
    "    close_device\n",
    ")"
   ],
   "outputs": [],
   "execution_count": 31
  },
  {
   "metadata": {
    "ExecuteTime": {
     "end_time": "2025-06-23T15:41:55.011678Z",
     "start_time": "2025-06-23T15:41:54.995866Z"
    }
   },
   "cell_type": "code",
   "source": [
    "print(\"Finding filter wheel devices...\")\n",
    "devices = list_devices()\n",
    "if not devices:\n",
    "    print(\"No filter wheel devices found.\")\n",
    "    sys.exit(1)\n",
    "\n",
    "print(\"Found devices:\")\n",
    "for idx, dev in enumerate(devices):\n",
    "    print(f\" [{idx}] {dev}\")\n",
    "\n",
    "# init filter wheels to empty pos\n",
    "for i in range(len(devices)):\n",
    "    handle = open_device(i)\n",
    "    max_pos = get_position_count(handle)\n",
    "    if max_pos != 0:\n",
    "        get_position(handle)\n",
    "        set_position(handle, 1)\n",
    "        get_position(handle)\n",
    "    close_device(handle)"
   ],
   "id": "fa60ad8f3a42b376",
   "outputs": [
    {
     "name": "stdout",
     "output_type": "stream",
     "text": [
      "Finding filter wheel devices...\n",
      "No filter wheel devices found.\n"
     ]
    },
    {
     "ename": "SystemExit",
     "evalue": "1",
     "output_type": "error",
     "traceback": [
      "An exception has occurred, use %tb to see the full traceback.\n",
      "\u001B[1;31mSystemExit\u001B[0m\u001B[1;31m:\u001B[0m 1\n"
     ]
    }
   ],
   "execution_count": 21
  },
  {
   "metadata": {
    "ExecuteTime": {
     "end_time": "2025-06-23T15:54:31.832987Z",
     "start_time": "2025-06-23T15:54:31.789211Z"
    }
   },
   "cell_type": "code",
   "source": [
    "# Open serial connection\n",
    "ser = serial.Serial(\n",
    "    port='COM3',         # Replace with your actual port\n",
    "    baudrate=9600,\n",
    "    bytesize=serial.EIGHTBITS,\n",
    "    parity=serial.PARITY_NONE,\n",
    "    stopbits=serial.STOPBITS_ONE,\n",
    "    timeout=2,\n",
    "    xonxoff=False,\n",
    "    rtscts=False,\n",
    "    dsrdtr=False\n",
    ")\n",
    "\n",
    "init_cmds()\n",
    "\n",
    "read_time = .5 # time in minutes to read for\n",
    "num_of_reads = round(417*read_time)\n",
    "readings = np.zeros(num_of_reads)\n",
    "\n",
    "# Trigger a read and fetch result\n",
    "for i in range(num_of_reads):\n",
    "    time.sleep(0.001)\n",
    "    current = query('READ?')\n",
    "    readings[i] = current\n",
    "\n",
    "    if i == num_of_reads//2:\n",
    "        print(\"switching filters\")\n",
    "        for i in range(len(devices)):\n",
    "            handle = open_device(i)\n",
    "            max_pos = get_position_count(handle)\n",
    "            if max_pos == 12:\n",
    "                set_position(handle, 4)\n",
    "            close_device(handle)\n",
    "        print(\"finished switching\")\n",
    "\n",
    "ser.close()"
   ],
   "id": "1d63cb7dab4a4e73",
   "outputs": [
    {
     "ename": "AttributeError",
     "evalue": "module 'serial' has no attribute 'Serial'",
     "output_type": "error",
     "traceback": [
      "\u001B[1;31m---------------------------------------------------------------------------\u001B[0m",
      "\u001B[1;31mAttributeError\u001B[0m                            Traceback (most recent call last)",
      "Cell \u001B[1;32mIn[27], line 2\u001B[0m\n\u001B[0;32m      1\u001B[0m \u001B[38;5;66;03m# Open serial connection\u001B[39;00m\n\u001B[1;32m----> 2\u001B[0m ser \u001B[38;5;241m=\u001B[39m \u001B[43mserial\u001B[49m\u001B[38;5;241;43m.\u001B[39;49m\u001B[43mSerial\u001B[49m(\n\u001B[0;32m      3\u001B[0m     port\u001B[38;5;241m=\u001B[39m\u001B[38;5;124m'\u001B[39m\u001B[38;5;124mCOM3\u001B[39m\u001B[38;5;124m'\u001B[39m,         \u001B[38;5;66;03m# Replace with your actual port\u001B[39;00m\n\u001B[0;32m      4\u001B[0m     baudrate\u001B[38;5;241m=\u001B[39m\u001B[38;5;241m9600\u001B[39m,\n\u001B[0;32m      5\u001B[0m     bytesize\u001B[38;5;241m=\u001B[39mserial\u001B[38;5;241m.\u001B[39mEIGHTBITS,\n\u001B[0;32m      6\u001B[0m     parity\u001B[38;5;241m=\u001B[39mserial\u001B[38;5;241m.\u001B[39mPARITY_NONE,\n\u001B[0;32m      7\u001B[0m     stopbits\u001B[38;5;241m=\u001B[39mserial\u001B[38;5;241m.\u001B[39mSTOPBITS_ONE,\n\u001B[0;32m      8\u001B[0m     timeout\u001B[38;5;241m=\u001B[39m\u001B[38;5;241m2\u001B[39m,\n\u001B[0;32m      9\u001B[0m     xonxoff\u001B[38;5;241m=\u001B[39m\u001B[38;5;28;01mFalse\u001B[39;00m,\n\u001B[0;32m     10\u001B[0m     rtscts\u001B[38;5;241m=\u001B[39m\u001B[38;5;28;01mFalse\u001B[39;00m,\n\u001B[0;32m     11\u001B[0m     dsrdtr\u001B[38;5;241m=\u001B[39m\u001B[38;5;28;01mFalse\u001B[39;00m\n\u001B[0;32m     12\u001B[0m )\n\u001B[0;32m     14\u001B[0m \u001B[38;5;66;03m# maybe change below to a function\u001B[39;00m\n\u001B[0;32m     15\u001B[0m \u001B[38;5;66;03m# Reset and configure instrument\u001B[39;00m\n\u001B[0;32m     16\u001B[0m \u001B[38;5;28mprint\u001B[39m(query(\u001B[38;5;124m'\u001B[39m\u001B[38;5;124m*IDN?\u001B[39m\u001B[38;5;124m'\u001B[39m))\n",
      "\u001B[1;31mAttributeError\u001B[0m: module 'serial' has no attribute 'Serial'"
     ]
    }
   ],
   "execution_count": 27
  },
  {
   "metadata": {
    "ExecuteTime": {
     "end_time": "2025-06-23T15:52:04.261118Z",
     "start_time": "2025-06-23T15:52:04.236421Z"
    }
   },
   "cell_type": "code",
   "source": [
    "plt.scatter(range(num_of_reads), readings)\n",
    "plt.show()\n",
    "# print(f\"mean: {np.mean(readings)}\")"
   ],
   "id": "9c4ccf13a93fcded",
   "outputs": [
    {
     "ename": "NameError",
     "evalue": "name 'num_of_reads' is not defined",
     "output_type": "error",
     "traceback": [
      "\u001B[1;31m---------------------------------------------------------------------------\u001B[0m",
      "\u001B[1;31mNameError\u001B[0m                                 Traceback (most recent call last)",
      "Cell \u001B[1;32mIn[24], line 1\u001B[0m\n\u001B[1;32m----> 1\u001B[0m plt\u001B[38;5;241m.\u001B[39mscatter(\u001B[38;5;28mrange\u001B[39m(\u001B[43mnum_of_reads\u001B[49m), readings)\n\u001B[0;32m      2\u001B[0m plt\u001B[38;5;241m.\u001B[39mshow()\n\u001B[0;32m      3\u001B[0m \u001B[38;5;28mprint\u001B[39m(\u001B[38;5;124mf\u001B[39m\u001B[38;5;124m\"\u001B[39m\u001B[38;5;124mmean: \u001B[39m\u001B[38;5;132;01m{\u001B[39;00mnp\u001B[38;5;241m.\u001B[39mmean(readings)\u001B[38;5;132;01m}\u001B[39;00m\u001B[38;5;124m\"\u001B[39m)\n",
      "\u001B[1;31mNameError\u001B[0m: name 'num_of_reads' is not defined"
     ]
    }
   ],
   "execution_count": 24
  }
 ],
 "metadata": {
  "kernelspec": {
   "display_name": "Python 3",
   "language": "python",
   "name": "python3"
  },
  "language_info": {
   "codemirror_mode": {
    "name": "ipython",
    "version": 2
   },
   "file_extension": ".py",
   "mimetype": "text/x-python",
   "name": "python",
   "nbconvert_exporter": "python",
   "pygments_lexer": "ipython2",
   "version": "2.7.6"
  }
 },
 "nbformat": 4,
 "nbformat_minor": 5
}
