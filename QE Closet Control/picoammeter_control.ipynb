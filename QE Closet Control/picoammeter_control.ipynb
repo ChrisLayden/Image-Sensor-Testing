{
 "cells": [
  {
   "cell_type": "code",
   "id": "cc09fad5",
   "metadata": {
    "ExecuteTime": {
     "end_time": "2025-07-09T20:10:38.528624Z",
     "start_time": "2025-07-09T20:10:37.542031Z"
    }
   },
   "source": [
    "import serial\n",
    "import time\n",
    "import numpy as np\n",
    "import matplotlib.pyplot as plt"
   ],
   "outputs": [],
   "execution_count": 1
  },
  {
   "cell_type": "code",
   "id": "33cbd2f8",
   "metadata": {
    "ExecuteTime": {
     "end_time": "2025-07-09T20:10:40.960491Z",
     "start_time": "2025-07-09T20:10:40.941656Z"
    }
   },
   "source": [
    "def send_cmd(ser, cmd):\n",
    "    \"\"\"Send a command and wait a bit\"\"\"\n",
    "    ser.write((cmd + '\\r').encode())\n",
    "    time.sleep(0.1)\n",
    "\n",
    "def query(ser, cmd):\n",
    "    \"\"\"Send a command and read the response\"\"\"\n",
    "    send_cmd(ser, cmd)\n",
    "    return ser.readline().decode().strip()"
   ],
   "outputs": [],
   "execution_count": 2
  },
  {
   "cell_type": "code",
   "id": "87102a38",
   "metadata": {},
   "source": [
    "# Open serial connection\n",
    "ser = serial.Serial(\n",
    "    port='COM5',         # Replace with your actual port\n",
    "    baudrate=9600,\n",
    "    bytesize=serial.EIGHTBITS,\n",
    "    parity=serial.PARITY_NONE,\n",
    "    stopbits=serial.STOPBITS_ONE,\n",
    "    timeout=2,\n",
    "    xonxoff=False,\n",
    "    rtscts=False,\n",
    "    dsrdtr=False\n",
    ")\n",
    "\n",
    "def init_cmds(ser):\n",
    "    # Reset and configure instrument\n",
    "    print(query(ser, '*IDN?'))\n",
    "    send_cmd(ser, '*RST')\n",
    "    send_cmd(ser, ':FORM:ELEM READ')\n",
    "    send_cmd(ser, 'TRIG:DEL 0')\n",
    "    send_cmd(ser, 'TRIG:COUNT 1')\n",
    "    send_cmd(ser, 'SENS:CURR:NPLC 6')\n",
    "    send_cmd(ser, 'SENS:CURR:RANG 0.000002')\n",
    "    send_cmd(ser, 'SENS:CURR:RANG:AUTO ON')\n",
    "    send_cmd(ser, 'SYST:AZER:STAT OFF')\n",
    "    send_cmd(ser, 'DISP:ENAB ON')\n",
    "    send_cmd(ser, ':SYST:ZCH:STAT OFF')\n",
    "\n",
    "    # Wait for settings to take effect\n",
    "    time.sleep(0.5)\n",
    "\n",
    "init_cmds(ser)\n",
    "\n",
    "#417 reads/min with no time.sleep\n",
    "read_time = .5 # time in minutes to read for\n",
    "num_of_reads = round(417*read_time)\n",
    "readings = np.zeros(num_of_reads)\n",
    "\n",
    "# Trigger a read and fetch result\n",
    "for i in range(num_of_reads):\n",
    "    time.sleep(0.001)\n",
    "    current = query(ser, 'READ?')\n",
    "    readings[i] = current\n",
    "\n",
    "# Optional: close serial port when done\n",
    "ser.close()"
   ],
   "outputs": [],
   "execution_count": null
  },
  {
   "cell_type": "code",
   "id": "f522560d",
   "metadata": {},
   "source": [
    "plt.scatter(range(num_of_reads), readings)\n",
    "plt.show()"
   ],
   "outputs": [],
   "execution_count": null
  },
  {
   "cell_type": "code",
   "id": "8db7d7b7",
   "metadata": {},
   "source": [
    "print(f\"mean over {read_time} mins: {np.mean(readings)}\")\n",
    "print(f\"std over {read_time} mins: {np.std(readings)}\")"
   ],
   "outputs": [],
   "execution_count": null
  }
 ],
 "metadata": {
  "kernelspec": {
   "display_name": "sensor-testing",
   "language": "python",
   "name": "python3"
  },
  "language_info": {
   "codemirror_mode": {
    "name": "ipython",
    "version": 3
   },
   "file_extension": ".py",
   "mimetype": "text/x-python",
   "name": "python",
   "nbconvert_exporter": "python",
   "pygments_lexer": "ipython3",
   "version": "3.13.5"
  }
 },
 "nbformat": 4,
 "nbformat_minor": 5
}
