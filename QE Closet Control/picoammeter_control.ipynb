{
 "cells": [
  {
   "cell_type": "code",
   "id": "cc09fad5",
   "metadata": {
    "ExecuteTime": {
     "end_time": "2025-06-23T14:32:16.692935Z",
     "start_time": "2025-06-23T14:32:11.976935Z"
    }
   },
   "source": [
    "import serial\n",
    "import time\n",
    "import numpy as np\n",
    "import matplotlib.pyplot as plt\n"
   ],
   "outputs": [],
   "execution_count": 4
  },
  {
   "cell_type": "code",
   "id": "33cbd2f8",
   "metadata": {
    "ExecuteTime": {
     "end_time": "2025-06-23T14:37:02.242651Z",
     "start_time": "2025-06-23T14:37:02.232879Z"
    }
   },
   "source": [
    "def send_cmd(cmd):\n",
    "    \"\"\"Send a command and wait a bit\"\"\"\n",
    "    ser.write((cmd + '\\r').encode())\n",
    "    time.sleep(0.1)\n",
    "\n",
    "def query(cmd):\n",
    "    \"\"\"Send a command and read the response\"\"\"\n",
    "    send_cmd(cmd)\n",
    "    return ser.readline().decode().strip()"
   ],
   "outputs": [],
   "execution_count": 5
  },
  {
   "cell_type": "code",
   "id": "87102a38",
   "metadata": {
    "ExecuteTime": {
     "end_time": "2025-06-23T15:56:38.577655Z",
     "start_time": "2025-06-23T15:56:38.511787Z"
    }
   },
   "source": [
    "# Open serial connection\n",
    "ser = serial.Serial(\n",
    "    port='COM3',         # Replace with your actual port\n",
    "    baudrate=9600,\n",
    "    bytesize=serial.EIGHTBITS,\n",
    "    parity=serial.PARITY_NONE,\n",
    "    stopbits=serial.STOPBITS_ONE,\n",
    "    timeout=2,\n",
    "    xonxoff=False,\n",
    "    rtscts=False,\n",
    "    dsrdtr=False\n",
    ")\n",
    "\n",
    "\n",
    "def init_cmds():\n",
    "    # Reset and configure instrument\n",
    "    print(query('*IDN?'))\n",
    "    send_cmd('*RST')\n",
    "    send_cmd(':FORM:ELEM READ')\n",
    "    send_cmd('TRIG:DEL 0')\n",
    "    send_cmd('TRIG:COUNT 1')\n",
    "    send_cmd('SENS:CURR:NPLC 6')\n",
    "    send_cmd('SENS:CURR:RANG 0.000002')\n",
    "    send_cmd('SENS:CURR:RANG:AUTO ON')\n",
    "    send_cmd('SYST:AZER:STAT OFF')\n",
    "    send_cmd('DISP:ENAB ON')\n",
    "    send_cmd(':SYST:ZCH:STAT OFF')\n",
    "\n",
    "    # Wait for settings to take effect\n",
    "    time.sleep(0.5)\n",
    "\n",
    "init_cmds()\n",
    "\n",
    "\n",
    "#417 reads/min with no time.sleep\n",
    "read_time = .5 # time in minutes to read for\n",
    "num_of_reads = round(417*read_time)\n",
    "readings = np.zeros(num_of_reads)\n",
    "\n",
    "# Trigger a read and fetch result\n",
    "for i in range(num_of_reads):\n",
    "    time.sleep(0.001)\n",
    "    current = query('READ?')\n",
    "    readings[i] = current\n",
    "\n",
    "\n",
    "\n",
    "\n",
    "# Optional: close serial port when done\n",
    "ser.close()\n"
   ],
   "outputs": [
    {
     "ename": "AttributeError",
     "evalue": "module 'serial' has no attribute 'Serial'",
     "output_type": "error",
     "traceback": [
      "\u001B[1;31m---------------------------------------------------------------------------\u001B[0m",
      "\u001B[1;31mAttributeError\u001B[0m                            Traceback (most recent call last)",
      "Cell \u001B[1;32mIn[7], line 2\u001B[0m\n\u001B[0;32m      1\u001B[0m \u001B[38;5;66;03m# Open serial connection\u001B[39;00m\n\u001B[1;32m----> 2\u001B[0m ser \u001B[38;5;241m=\u001B[39m \u001B[43mserial\u001B[49m\u001B[38;5;241;43m.\u001B[39;49m\u001B[43mSerial\u001B[49m(\n\u001B[0;32m      3\u001B[0m     port\u001B[38;5;241m=\u001B[39m\u001B[38;5;124m'\u001B[39m\u001B[38;5;124mCOM3\u001B[39m\u001B[38;5;124m'\u001B[39m,         \u001B[38;5;66;03m# Replace with your actual port\u001B[39;00m\n\u001B[0;32m      4\u001B[0m     baudrate\u001B[38;5;241m=\u001B[39m\u001B[38;5;241m9600\u001B[39m,\n\u001B[0;32m      5\u001B[0m     bytesize\u001B[38;5;241m=\u001B[39mserial\u001B[38;5;241m.\u001B[39mEIGHTBITS,\n\u001B[0;32m      6\u001B[0m     parity\u001B[38;5;241m=\u001B[39mserial\u001B[38;5;241m.\u001B[39mPARITY_NONE,\n\u001B[0;32m      7\u001B[0m     stopbits\u001B[38;5;241m=\u001B[39mserial\u001B[38;5;241m.\u001B[39mSTOPBITS_ONE,\n\u001B[0;32m      8\u001B[0m     timeout\u001B[38;5;241m=\u001B[39m\u001B[38;5;241m2\u001B[39m,\n\u001B[0;32m      9\u001B[0m     xonxoff\u001B[38;5;241m=\u001B[39m\u001B[38;5;28;01mFalse\u001B[39;00m,\n\u001B[0;32m     10\u001B[0m     rtscts\u001B[38;5;241m=\u001B[39m\u001B[38;5;28;01mFalse\u001B[39;00m,\n\u001B[0;32m     11\u001B[0m     dsrdtr\u001B[38;5;241m=\u001B[39m\u001B[38;5;28;01mFalse\u001B[39;00m\n\u001B[0;32m     12\u001B[0m )\n\u001B[0;32m     16\u001B[0m \u001B[38;5;66;03m# Reset and configure instrument\u001B[39;00m\n\u001B[0;32m     17\u001B[0m \u001B[38;5;28mprint\u001B[39m(query(\u001B[38;5;124m'\u001B[39m\u001B[38;5;124m*IDN?\u001B[39m\u001B[38;5;124m'\u001B[39m))\n",
      "\u001B[1;31mAttributeError\u001B[0m: module 'serial' has no attribute 'Serial'"
     ]
    }
   ],
   "execution_count": 7
  },
  {
   "cell_type": "code",
   "execution_count": 88,
   "id": "f522560d",
   "metadata": {},
   "outputs": [
    {
     "data": {
      "image/png": "[encoded data removed]",
      "text/plain": [
       "<Figure size 640x480 with 1 Axes>"
      ]
     },
     "metadata": {},
     "output_type": "display_data"
    }
   ],
   "source": [
    "plt.scatter(range(num_of_reads), readings)\n",
    "plt.show()"
   ]
  },
  {
   "cell_type": "code",
   "execution_count": 89,
   "id": "8db7d7b7",
   "metadata": {},
   "outputs": [
    {
     "name": "stdout",
     "output_type": "stream",
     "text": [
      "4.052769038461539e-08\n"
     ]
    }
   ],
   "source": [
    "print(f\"mean over {read_time} mins: {np.mean(readings)}\")\n",
    "print(f\"std over {read_time} mins: {np.std(readings)}\")"
   ]
  },
  {
   "cell_type": "code",
   "execution_count": null,
   "id": "6fa7938e",
   "metadata": {},
   "outputs": [],
   "source": []
  }
 ],
 "metadata": {
  "kernelspec": {
   "display_name": "sensor-testing",
   "language": "python",
   "name": "python3"
  },
  "language_info": {
   "codemirror_mode": {
    "name": "ipython",
    "version": 3
   },
   "file_extension": ".py",
   "mimetype": "text/x-python",
   "name": "python",
   "nbconvert_exporter": "python",
   "pygments_lexer": "ipython3",
   "version": "3.13.5"
  }
 },
 "nbformat": 4,
 "nbformat_minor": 5
}
