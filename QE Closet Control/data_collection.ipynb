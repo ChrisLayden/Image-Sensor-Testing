{
 "cells": [
  {
   "cell_type": "code",
   "id": "initial_id",
   "metadata": {
    "collapsed": true
   },
   "source": [
    "\"\"\"\n",
    "!!! May need to pip install several of these !!!\n",
    "\"\"\"\n",
    "import sys, os\n",
    "import serial\n",
    "import time\n",
    "import numpy as np\n",
    "import matplotlib.pyplot as plt\n",
    "import pandas as pd\n",
    "import win32com.client\n",
    "from astropy.io import fits\n",
    "import threading\n",
    "import nbimporter\n",
    "from picoammeter_control import (\n",
    "    send_cmd,\n",
    "    query,\n",
    "    init_cmds\n",
    ")\n",
    "from camera_control_ascom import (\n",
    "    take_ramp,\n",
    "    camera_init,\n",
    "    populate_header\n",
    ")\n",
    "sys.path.insert(0, os.path.abspath('.'))\n",
    "sys.path.insert(0, os.path.abspath('filter_wheel_control'))\n",
    "from filter_wheel_control.wheel_controller import (\n",
    "    list_devices,\n",
    "    open_device,\n",
    "    get_position,\n",
    "    get_position_count,\n",
    "    set_position,\n",
    "    close_device\n",
    ")\n",
    "from qCMOS_functions import(\n",
    "    var_exp_graphs_from_folder,\n",
    "    compare_exp_and_filter_from_folders\n",
    ")\n",
    "from data_helper_functions import (\n",
    "    init_wheels,\n",
    "    close_wheels,\n",
    "    camera_init,\n",
    "    picoam_stability,\n",
    "    picoam_worker_exp,\n",
    "    camera_with_picoam,\n",
    "    collect_var_exp,\n",
    "    var_exp_graphs,\n",
    "    capture_frame,\n",
    "    measure_ptc_point,\n",
    "    get_gain,\n",
    "    picoam_worker_filters,\n",
    "    camera_with_filters,\n",
    "    collect_var_filters,\n",
    "    compare_exp_and_filter,\n",
    "    collect_bias_frames\n",
    ")"
   ],
   "outputs": [],
   "execution_count": null
  },
  {
   "metadata": {},
   "cell_type": "code",
   "source": [
    "camera_init()\n",
    "cam_name = \"ASCOM.QHYCCD.Camera\"\n",
    "save_path= \"C:/Users/___/fits_imgs\""
   ],
   "id": "a2e8bdecfe8d3464",
   "outputs": [],
   "execution_count": null
  },
  {
   "metadata": {},
   "cell_type": "code",
   "source": [
    "min_exp = 0.000001 # both in seconds\n",
    "max_exp = 0.03"
   ],
   "id": "496be0cc7a70b17c",
   "outputs": [],
   "execution_count": null
  },
  {
   "metadata": {},
   "cell_type": "code",
   "source": [
    "# for light source stability\n",
    "# picoam_stability(read_time = .5, save = save_path, port='COM5')"
   ],
   "id": "32b13f7d154165c",
   "outputs": [],
   "execution_count": null
  },
  {
   "metadata": {},
   "cell_type": "code",
   "source": [
    "init_wheels(print_stuff=False)\n",
    "close_wheels()"
   ],
   "id": "1f3bb42968292e20",
   "outputs": [],
   "execution_count": null
  },
  {
   "metadata": {},
   "cell_type": "code",
   "source": "e_per_adu = get_gain(cam_name=cam_name, n_frames=3, print_stuff=True, exp_list=[min_exp, min_exp*10, min_exp*100, min_exp*200, min_exp*500, min_exp*1000])",
   "id": "b7dbbaa4da97afb3",
   "outputs": [],
   "execution_count": null
  },
  {
   "metadata": {},
   "cell_type": "code",
   "source": [
    "I_flat, Q_ramp, mean_signal, std_signal, bit_depth, exp_times, exp_low, exp_high, exp_50 = (collect_var_exp(cam_name=cam_name, num_exp=10, num_frames=3, exp_low = min_exp, exp_high = max_exp, save_path=save_path))\n",
    "# var_exp_graphs(mean_signal, std_signal, bit_depth, exp_times, exp_low, exp_high, save=True, e_per_adu=e_per_adu, min_percent=0.01, max_percent= 0.95, percent_change=False)"
   ],
   "id": "79b69d6620c867d3",
   "outputs": [],
   "execution_count": null
  },
  {
   "metadata": {},
   "cell_type": "code",
   "source": "signals_f, Q_filt = collect_var_filters(save_path=save_path, cam_name=cam_name, exp_50=exp_50, num_frames=10)",
   "id": "6583c3289e9e2f2f",
   "outputs": [],
   "execution_count": null
  },
  {
   "metadata": {},
   "cell_type": "code",
   "source": [
    "bias_level = collect_bias_frames(cam_name = cam_name,num_frames=500, exp_low=min_exp, save_path=save_path)\n",
    "print(\"bias level: \", bias_level)"
   ],
   "id": "eb36a60958153b15",
   "outputs": [],
   "execution_count": null
  },
  {
   "metadata": {},
   "cell_type": "code",
   "source": "compare_exp_and_filter(e_per_adu = e_per_adu, Q_ramp=Q_ramp, Q_filt=Q_filt, signals_f=signals_f, mean_signal=mean_signal, bias_level=(bias_level-100), save=True)",
   "id": "ea9d41fb0b151829",
   "outputs": [],
   "execution_count": null
  },
  {
   "metadata": {},
   "cell_type": "code",
   "source": [
    "# if you want to generate graphs from local files without collecting data\n",
    "# must have the var exp fits files in 'path_folder'\n",
    "var_exp_graphs_from_folder(\n",
    "    path_folder=\"C:/Users/___/fits_imgs/var_exp\",\n",
    "    save=True,\n",
    "    e_per_adu=e_per_adu,\n",
    "    min_percent=0.01,\n",
    "    max_percent=0.95,\n",
    ")"
   ],
   "id": "e907bf179b82c482",
   "outputs": [],
   "execution_count": null
  },
  {
   "metadata": {},
   "cell_type": "code",
   "source": [
    "# if you want to generate graphs from local files without collecting data\n",
    "# must have the var exp and var filter fits files in the assigned paths\n",
    "compare_exp_and_filter_from_folders(\n",
    "    path_exp_folder=\"C:/Users/___/fits_imgs/var_exp\",\n",
    "    path_filter_folder=\"C:/Users/___/fits_imgs/var_filt\",\n",
    "    bias_level=bias_level,\n",
    "    save=True,\n",
    "    e_per_adu=e_per_adu\n",
    ")"
   ],
   "id": "fd9426e769be406a",
   "outputs": [],
   "execution_count": null
  }
 ],
 "metadata": {
  "kernelspec": {
   "display_name": "Python 3",
   "language": "python",
   "name": "python3"
  },
  "language_info": {
   "codemirror_mode": {
    "name": "ipython",
    "version": 2
   },
   "file_extension": ".py",
   "mimetype": "text/x-python",
   "name": "python",
   "nbconvert_exporter": "python",
   "pygments_lexer": "ipython2",
   "version": "2.7.6"
  }
 },
 "nbformat": 4,
 "nbformat_minor": 5
}
